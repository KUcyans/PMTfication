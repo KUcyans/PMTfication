{
 "cells": [
  {
   "cell_type": "code",
   "execution_count": 1,
   "metadata": {},
   "outputs": [],
   "source": [
    "import numpy as np\n",
    "import pandas as pd\n",
    "import os\n",
    "import math\n",
    "import sys\n",
    "import matplotlib.pyplot as plt\n",
    "import tarfile\n",
    "from tqdm import tqdm\n",
    "import sqlite3 as sql\n",
    "# 1 min 15 sec"
   ]
  },
  {
   "cell_type": "code",
   "execution_count": 2,
   "metadata": {},
   "outputs": [],
   "source": [
    "sys.path.append('/groups/icecube/cyan/Utils')\n",
    "from PlotUtils import setMplParam, getColour, getHistoParam \n",
    "# getHistoParam:\n",
    "# Nbins, binwidth, bins, counts, bin_centers  = \n",
    "from DB_lister import list_content, list_tables\n",
    "from ExternalFunctions import nice_string_output, add_text_to_ax\n",
    "setMplParam()"
   ]
  },
  {
   "cell_type": "code",
   "execution_count": 3,
   "metadata": {},
   "outputs": [],
   "source": [
    "root_dir = \"/lustre/hpc/project/icecube/HE_Nu_Aske_Oct2024/\"\n",
    "original_file_dir = root_dir + \"tar.gz/\""
   ]
  },
  {
   "cell_type": "code",
   "execution_count": 4,
   "metadata": {},
   "outputs": [
    {
     "name": "stdout",
     "output_type": "stream",
     "text": [
      "files in the directory:  2\n"
     ]
    }
   ],
   "source": [
    "print(\"files in the directory: \",len(os.listdir(original_file_dir)))"
   ]
  },
  {
   "cell_type": "code",
   "execution_count": 23,
   "metadata": {},
   "outputs": [],
   "source": [
    "def safemembers(members):\n",
    "    for member in members:\n",
    "        # Check for absolute paths and relative paths with '..'\n",
    "        if not os.path.isabs(member.name) and \"..\" not in member.name:\n",
    "            yield member"
   ]
  },
  {
   "cell_type": "code",
   "execution_count": 24,
   "metadata": {},
   "outputs": [],
   "source": [
    "def extract_all_tar_gz(src_dir, dest_dir):\n",
    "    # Check if destination directory exists; if not, create it\n",
    "    if not os.path.exists(dest_dir):\n",
    "        os.makedirs(dest_dir)\n",
    "\n",
    "    # Loop through each file in the source directory\n",
    "    for filename in tqdm(os.listdir(src_dir)):\n",
    "        # Check if the file is a .tar.gz file\n",
    "        if filename.endswith('.tar.gz'):\n",
    "            file_path = os.path.join(src_dir, filename)\n",
    "            print(f\"Extracting {file_path}...\")\n",
    "\n",
    "            # Open and extract the tar.gz file\n",
    "            with tarfile.open(file_path, 'r:gz') as tar:\n",
    "                tar.extractall(path=dest_dir, members=safemembers(tar))\n",
    "\n",
    "            print(f\"Extracted {filename} to {dest_dir}\")"
   ]
  },
  {
   "cell_type": "code",
   "execution_count": 25,
   "metadata": {},
   "outputs": [
    {
     "name": "stderr",
     "output_type": "stream",
     "text": [
      "  0%|          | 0/8 [00:00<?, ?it/s]/usr/lib64/python3.9/tarfile.py:2239: RuntimeWarning: The default behavior of tarfile extraction has been changed to disallow common exploits (including CVE-2007-4559). By default, absolute/parent paths are disallowed and some mode bits are cleared. See https://access.redhat.com/articles/7004769 for more details.\n",
      "  warnings.warn(\n"
     ]
    },
    {
     "name": "stdout",
     "output_type": "stream",
     "text": [
      "Extracting /lustre/hpc/project/icecube/HE_Nu_Aske_Oct2024/tar.gz/Corsika_l2/20848_0009000_0009999.tar.gz...\n"
     ]
    },
    {
     "name": "stderr",
     "output_type": "stream",
     "text": [
      " 12%|█▎        | 1/8 [17:38<2:03:31, 1058.76s/it]"
     ]
    },
    {
     "name": "stdout",
     "output_type": "stream",
     "text": [
      "Extracted 20848_0009000_0009999.tar.gz to /lustre/hpc/project/icecube/HE_Nu_Aske_Oct2024/sqlite_pulses/Corsika\n",
      "Extracting /lustre/hpc/project/icecube/HE_Nu_Aske_Oct2024/tar.gz/Corsika_l2/20848_0005000_0005999.tar.gz...\n"
     ]
    },
    {
     "name": "stderr",
     "output_type": "stream",
     "text": [
      " 25%|██▌       | 2/8 [35:09<1:45:25, 1054.29s/it]"
     ]
    },
    {
     "name": "stdout",
     "output_type": "stream",
     "text": [
      "Extracted 20848_0005000_0005999.tar.gz to /lustre/hpc/project/icecube/HE_Nu_Aske_Oct2024/sqlite_pulses/Corsika\n",
      "Extracting /lustre/hpc/project/icecube/HE_Nu_Aske_Oct2024/tar.gz/Corsika_l2/20848_0003000_0003999.tar.gz...\n"
     ]
    },
    {
     "name": "stderr",
     "output_type": "stream",
     "text": [
      " 38%|███▊      | 3/8 [52:40<1:27:41, 1052.38s/it]"
     ]
    },
    {
     "name": "stdout",
     "output_type": "stream",
     "text": [
      "Extracted 20848_0003000_0003999.tar.gz to /lustre/hpc/project/icecube/HE_Nu_Aske_Oct2024/sqlite_pulses/Corsika\n",
      "Extracting /lustre/hpc/project/icecube/HE_Nu_Aske_Oct2024/tar.gz/Corsika_l2/20848_0008000_0008999.tar.gz...\n"
     ]
    },
    {
     "name": "stderr",
     "output_type": "stream",
     "text": [
      " 50%|█████     | 4/8 [1:10:07<1:10:01, 1050.25s/it]"
     ]
    },
    {
     "name": "stdout",
     "output_type": "stream",
     "text": [
      "Extracted 20848_0008000_0008999.tar.gz to /lustre/hpc/project/icecube/HE_Nu_Aske_Oct2024/sqlite_pulses/Corsika\n",
      "Extracting /lustre/hpc/project/icecube/HE_Nu_Aske_Oct2024/tar.gz/Corsika_l2/20848_0004000_0004999.tar.gz...\n"
     ]
    },
    {
     "name": "stderr",
     "output_type": "stream",
     "text": [
      " 62%|██████▎   | 5/8 [1:27:41<52:35, 1051.95s/it]  "
     ]
    },
    {
     "name": "stdout",
     "output_type": "stream",
     "text": [
      "Extracted 20848_0004000_0004999.tar.gz to /lustre/hpc/project/icecube/HE_Nu_Aske_Oct2024/sqlite_pulses/Corsika\n",
      "Extracting /lustre/hpc/project/icecube/HE_Nu_Aske_Oct2024/tar.gz/Corsika_l2/20848_0002000_0002999.tar.gz...\n"
     ]
    },
    {
     "name": "stderr",
     "output_type": "stream",
     "text": [
      " 75%|███████▌  | 6/8 [1:45:07<34:59, 1049.79s/it]"
     ]
    },
    {
     "name": "stdout",
     "output_type": "stream",
     "text": [
      "Extracted 20848_0002000_0002999.tar.gz to /lustre/hpc/project/icecube/HE_Nu_Aske_Oct2024/sqlite_pulses/Corsika\n",
      "Extracting /lustre/hpc/project/icecube/HE_Nu_Aske_Oct2024/tar.gz/Corsika_l2/20848_0007000_0007999.tar.gz...\n"
     ]
    },
    {
     "name": "stderr",
     "output_type": "stream",
     "text": [
      " 88%|████████▊ | 7/8 [2:02:38<17:30, 1050.05s/it]"
     ]
    },
    {
     "name": "stdout",
     "output_type": "stream",
     "text": [
      "Extracted 20848_0007000_0007999.tar.gz to /lustre/hpc/project/icecube/HE_Nu_Aske_Oct2024/sqlite_pulses/Corsika\n",
      "Extracting /lustre/hpc/project/icecube/HE_Nu_Aske_Oct2024/tar.gz/Corsika_l2/20848_0006000_0006999.tar.gz...\n"
     ]
    },
    {
     "name": "stderr",
     "output_type": "stream",
     "text": [
      "100%|██████████| 8/8 [2:20:17<00:00, 1052.22s/it]"
     ]
    },
    {
     "name": "stdout",
     "output_type": "stream",
     "text": [
      "Extracted 20848_0006000_0006999.tar.gz to /lustre/hpc/project/icecube/HE_Nu_Aske_Oct2024/sqlite_pulses/Corsika\n"
     ]
    },
    {
     "name": "stderr",
     "output_type": "stream",
     "text": [
      "\n"
     ]
    }
   ],
   "source": [
    "corsika_source_dir = \"/lustre/hpc/project/icecube/HE_Nu_Aske_Oct2024/tar.gz/Corsika_l2\"\n",
    "corsika_dest_dir = \"/lustre/hpc/project/icecube/HE_Nu_Aske_Oct2024/sqlite_pulses/Corsika\"\n",
    "extract_all_tar_gz(corsika_source_dir, corsika_dest_dir)\n",
    "# 17 min per each tar.gz file(31GB)\n",
    "# 8 files: 2 hours 16 min\n",
    "# actual time: 140 min = 2 hours 20 min"
   ]
  },
  {
   "cell_type": "code",
   "execution_count": 26,
   "metadata": {},
   "outputs": [
    {
     "name": "stderr",
     "output_type": "stream",
     "text": [
      "  0%|          | 0/27 [00:00<?, ?it/s]"
     ]
    },
    {
     "name": "stdout",
     "output_type": "stream",
     "text": [
      "Extracting /lustre/hpc/project/icecube/HE_Nu_Aske_Oct2024/tar.gz/Snowstorm_l2/22081.tar.gz...\n"
     ]
    },
    {
     "name": "stderr",
     "output_type": "stream",
     "text": [
      "/usr/lib64/python3.9/tarfile.py:2239: RuntimeWarning: The default behavior of tarfile extraction has been changed to disallow common exploits (including CVE-2007-4559). By default, absolute/parent paths are disallowed and some mode bits are cleared. See https://access.redhat.com/articles/7004769 for more details.\n",
      "  warnings.warn(\n",
      "  4%|▎         | 1/27 [02:16<59:15, 136.77s/it]"
     ]
    },
    {
     "name": "stdout",
     "output_type": "stream",
     "text": [
      "Extracted 22081.tar.gz to /lustre/hpc/project/icecube/HE_Nu_Aske_Oct2024/sqlite_pulses/Snowstorm\n",
      "Extracting /lustre/hpc/project/icecube/HE_Nu_Aske_Oct2024/tar.gz/Snowstorm_l2/22017.tar.gz...\n"
     ]
    },
    {
     "name": "stderr",
     "output_type": "stream",
     "text": [
      "  7%|▋         | 2/27 [09:00<2:02:28, 293.95s/it]"
     ]
    },
    {
     "name": "stdout",
     "output_type": "stream",
     "text": [
      "Extracted 22017.tar.gz to /lustre/hpc/project/icecube/HE_Nu_Aske_Oct2024/sqlite_pulses/Snowstorm\n",
      "Extracting /lustre/hpc/project/icecube/HE_Nu_Aske_Oct2024/tar.gz/Snowstorm_l2/22083.tar.gz...\n"
     ]
    },
    {
     "name": "stderr",
     "output_type": "stream",
     "text": [
      " 11%|█         | 3/27 [17:33<2:37:33, 393.89s/it]"
     ]
    },
    {
     "name": "stdout",
     "output_type": "stream",
     "text": [
      "Extracted 22083.tar.gz to /lustre/hpc/project/icecube/HE_Nu_Aske_Oct2024/sqlite_pulses/Snowstorm\n",
      "Extracting /lustre/hpc/project/icecube/HE_Nu_Aske_Oct2024/tar.gz/Snowstorm_l2/22018.tar.gz...\n"
     ]
    },
    {
     "name": "stderr",
     "output_type": "stream",
     "text": [
      " 15%|█▍        | 4/27 [1:00:38<8:02:36, 1258.96s/it]"
     ]
    },
    {
     "name": "stdout",
     "output_type": "stream",
     "text": [
      "Extracted 22018.tar.gz to /lustre/hpc/project/icecube/HE_Nu_Aske_Oct2024/sqlite_pulses/Snowstorm\n",
      "Extracting /lustre/hpc/project/icecube/HE_Nu_Aske_Oct2024/tar.gz/Snowstorm_l2/22043.tar.gz...\n"
     ]
    },
    {
     "name": "stderr",
     "output_type": "stream",
     "text": [
      " 19%|█▊        | 5/27 [1:03:48<5:20:13, 873.35s/it] "
     ]
    },
    {
     "name": "stdout",
     "output_type": "stream",
     "text": [
      "Extracted 22043.tar.gz to /lustre/hpc/project/icecube/HE_Nu_Aske_Oct2024/sqlite_pulses/Snowstorm\n",
      "Extracting /lustre/hpc/project/icecube/HE_Nu_Aske_Oct2024/tar.gz/Snowstorm_l2/22015.tar.gz...\n"
     ]
    },
    {
     "name": "stderr",
     "output_type": "stream",
     "text": [
      " 22%|██▏       | 6/27 [1:28:17<6:16:36, 1076.04s/it]"
     ]
    },
    {
     "name": "stdout",
     "output_type": "stream",
     "text": [
      "Extracted 22015.tar.gz to /lustre/hpc/project/icecube/HE_Nu_Aske_Oct2024/sqlite_pulses/Snowstorm\n",
      "Extracting /lustre/hpc/project/icecube/HE_Nu_Aske_Oct2024/tar.gz/Snowstorm_l2/22079.tar.gz...\n"
     ]
    },
    {
     "name": "stderr",
     "output_type": "stream",
     "text": [
      " 26%|██▌       | 7/27 [1:35:31<4:48:41, 866.09s/it] "
     ]
    },
    {
     "name": "stdout",
     "output_type": "stream",
     "text": [
      "Extracted 22079.tar.gz to /lustre/hpc/project/icecube/HE_Nu_Aske_Oct2024/sqlite_pulses/Snowstorm\n",
      "Extracting /lustre/hpc/project/icecube/HE_Nu_Aske_Oct2024/tar.gz/Snowstorm_l2/22013.tar.gz...\n"
     ]
    },
    {
     "name": "stderr",
     "output_type": "stream",
     "text": [
      " 30%|██▉       | 8/27 [1:39:14<3:29:26, 661.37s/it]"
     ]
    },
    {
     "name": "stdout",
     "output_type": "stream",
     "text": [
      "Extracted 22013.tar.gz to /lustre/hpc/project/icecube/HE_Nu_Aske_Oct2024/sqlite_pulses/Snowstorm\n",
      "Extracting /lustre/hpc/project/icecube/HE_Nu_Aske_Oct2024/tar.gz/Snowstorm_l2/22048.tar.gz...\n"
     ]
    },
    {
     "name": "stderr",
     "output_type": "stream",
     "text": [
      " 33%|███▎      | 9/27 [1:39:45<2:19:17, 464.30s/it]"
     ]
    },
    {
     "name": "stdout",
     "output_type": "stream",
     "text": [
      "Extracted 22048.tar.gz to /lustre/hpc/project/icecube/HE_Nu_Aske_Oct2024/sqlite_pulses/Snowstorm\n",
      "Extracting /lustre/hpc/project/icecube/HE_Nu_Aske_Oct2024/tar.gz/Snowstorm_l2/22085.tar.gz...\n"
     ]
    },
    {
     "name": "stderr",
     "output_type": "stream",
     "text": [
      " 37%|███▋      | 10/27 [1:42:06<1:43:13, 364.35s/it]"
     ]
    },
    {
     "name": "stdout",
     "output_type": "stream",
     "text": [
      "Extracted 22085.tar.gz to /lustre/hpc/project/icecube/HE_Nu_Aske_Oct2024/sqlite_pulses/Snowstorm\n",
      "Extracting /lustre/hpc/project/icecube/HE_Nu_Aske_Oct2024/tar.gz/Snowstorm_l2/22045.tar.gz...\n"
     ]
    },
    {
     "name": "stderr",
     "output_type": "stream",
     "text": [
      " 41%|████      | 11/27 [1:42:39<1:10:09, 263.08s/it]"
     ]
    },
    {
     "name": "stdout",
     "output_type": "stream",
     "text": [
      "Extracted 22045.tar.gz to /lustre/hpc/project/icecube/HE_Nu_Aske_Oct2024/sqlite_pulses/Snowstorm\n",
      "Extracting /lustre/hpc/project/icecube/HE_Nu_Aske_Oct2024/tar.gz/Snowstorm_l2/22011.tar.gz...\n"
     ]
    },
    {
     "name": "stderr",
     "output_type": "stream",
     "text": [
      " 44%|████▍     | 12/27 [2:03:21<2:20:10, 560.70s/it]"
     ]
    },
    {
     "name": "stdout",
     "output_type": "stream",
     "text": [
      "Extracted 22011.tar.gz to /lustre/hpc/project/icecube/HE_Nu_Aske_Oct2024/sqlite_pulses/Snowstorm\n",
      "Extracting /lustre/hpc/project/icecube/HE_Nu_Aske_Oct2024/tar.gz/Snowstorm_l2/22047.tar.gz...\n"
     ]
    },
    {
     "name": "stderr",
     "output_type": "stream",
     "text": [
      " 48%|████▊     | 13/27 [2:07:03<1:46:56, 458.32s/it]"
     ]
    },
    {
     "name": "stdout",
     "output_type": "stream",
     "text": [
      "Extracted 22047.tar.gz to /lustre/hpc/project/icecube/HE_Nu_Aske_Oct2024/sqlite_pulses/Snowstorm\n",
      "Extracting /lustre/hpc/project/icecube/HE_Nu_Aske_Oct2024/tar.gz/Snowstorm_l2/22084.tar.gz...\n"
     ]
    },
    {
     "name": "stderr",
     "output_type": "stream",
     "text": [
      " 52%|█████▏    | 14/27 [2:09:08<1:17:28, 357.61s/it]"
     ]
    },
    {
     "name": "stdout",
     "output_type": "stream",
     "text": [
      "Extracted 22084.tar.gz to /lustre/hpc/project/icecube/HE_Nu_Aske_Oct2024/sqlite_pulses/Snowstorm\n",
      "Extracting /lustre/hpc/project/icecube/HE_Nu_Aske_Oct2024/tar.gz/Snowstorm_l2/22044.tar.gz...\n"
     ]
    },
    {
     "name": "stderr",
     "output_type": "stream",
     "text": [
      " 56%|█████▌    | 15/27 [2:17:41<1:20:51, 404.30s/it]"
     ]
    },
    {
     "name": "stdout",
     "output_type": "stream",
     "text": [
      "Extracted 22044.tar.gz to /lustre/hpc/project/icecube/HE_Nu_Aske_Oct2024/sqlite_pulses/Snowstorm\n",
      "Extracting /lustre/hpc/project/icecube/HE_Nu_Aske_Oct2024/tar.gz/Snowstorm_l2/22012.tar.gz...\n"
     ]
    },
    {
     "name": "stderr",
     "output_type": "stream",
     "text": [
      " 59%|█████▉    | 16/27 [3:14:27<3:59:46, 1307.88s/it]"
     ]
    },
    {
     "name": "stdout",
     "output_type": "stream",
     "text": [
      "Extracted 22012.tar.gz to /lustre/hpc/project/icecube/HE_Nu_Aske_Oct2024/sqlite_pulses/Snowstorm\n",
      "Extracting /lustre/hpc/project/icecube/HE_Nu_Aske_Oct2024/tar.gz/Snowstorm_l2/22049.tar.gz...\n"
     ]
    },
    {
     "name": "stderr",
     "output_type": "stream",
     "text": [
      " 63%|██████▎   | 17/27 [3:15:26<2:35:23, 932.34s/it] "
     ]
    },
    {
     "name": "stdout",
     "output_type": "stream",
     "text": [
      "Extracted 22049.tar.gz to /lustre/hpc/project/icecube/HE_Nu_Aske_Oct2024/sqlite_pulses/Snowstorm\n",
      "Extracting /lustre/hpc/project/icecube/HE_Nu_Aske_Oct2024/tar.gz/Snowstorm_l2/22046.tar.gz...\n"
     ]
    },
    {
     "name": "stderr",
     "output_type": "stream",
     "text": [
      " 67%|██████▋   | 18/27 [3:17:10<1:42:30, 683.38s/it]"
     ]
    },
    {
     "name": "stdout",
     "output_type": "stream",
     "text": [
      "Extracted 22046.tar.gz to /lustre/hpc/project/icecube/HE_Nu_Aske_Oct2024/sqlite_pulses/Snowstorm\n",
      "Extracting /lustre/hpc/project/icecube/HE_Nu_Aske_Oct2024/tar.gz/Snowstorm_l2/22086.tar.gz...\n"
     ]
    },
    {
     "name": "stderr",
     "output_type": "stream",
     "text": [
      " 70%|███████   | 19/27 [3:32:06<1:39:38, 747.28s/it]"
     ]
    },
    {
     "name": "stdout",
     "output_type": "stream",
     "text": [
      "Extracted 22086.tar.gz to /lustre/hpc/project/icecube/HE_Nu_Aske_Oct2024/sqlite_pulses/Snowstorm\n",
      "Extracting /lustre/hpc/project/icecube/HE_Nu_Aske_Oct2024/tar.gz/Snowstorm_l2/22010.tar.gz...\n"
     ]
    },
    {
     "name": "stderr",
     "output_type": "stream",
     "text": [
      " 74%|███████▍  | 20/27 [4:05:08<2:10:25, 1117.97s/it]"
     ]
    },
    {
     "name": "stdout",
     "output_type": "stream",
     "text": [
      "Extracted 22010.tar.gz to /lustre/hpc/project/icecube/HE_Nu_Aske_Oct2024/sqlite_pulses/Snowstorm\n",
      "Extracting /lustre/hpc/project/icecube/HE_Nu_Aske_Oct2024/tar.gz/Snowstorm_l2/22050.tar.gz...\n"
     ]
    },
    {
     "name": "stderr",
     "output_type": "stream",
     "text": [
      " 78%|███████▊  | 21/27 [4:11:38<1:29:57, 899.50s/it] "
     ]
    },
    {
     "name": "stdout",
     "output_type": "stream",
     "text": [
      "Extracted 22050.tar.gz to /lustre/hpc/project/icecube/HE_Nu_Aske_Oct2024/sqlite_pulses/Snowstorm\n",
      "Extracting /lustre/hpc/project/icecube/HE_Nu_Aske_Oct2024/tar.gz/Snowstorm_l2/22016.tar.gz...\n"
     ]
    },
    {
     "name": "stderr",
     "output_type": "stream",
     "text": [
      " 81%|████████▏ | 22/27 [4:15:09<57:44, 692.90s/it]  "
     ]
    },
    {
     "name": "stdout",
     "output_type": "stream",
     "text": [
      "Extracted 22016.tar.gz to /lustre/hpc/project/icecube/HE_Nu_Aske_Oct2024/sqlite_pulses/Snowstorm\n",
      "Extracting /lustre/hpc/project/icecube/HE_Nu_Aske_Oct2024/tar.gz/Snowstorm_l2/22080.tar.gz...\n"
     ]
    },
    {
     "name": "stderr",
     "output_type": "stream",
     "text": [
      " 85%|████████▌ | 23/27 [4:35:15<56:26, 846.74s/it]"
     ]
    },
    {
     "name": "stdout",
     "output_type": "stream",
     "text": [
      "Extracted 22080.tar.gz to /lustre/hpc/project/icecube/HE_Nu_Aske_Oct2024/sqlite_pulses/Snowstorm\n",
      "Extracting /lustre/hpc/project/icecube/HE_Nu_Aske_Oct2024/tar.gz/Snowstorm_l2/22078.tar.gz...\n"
     ]
    },
    {
     "name": "stderr",
     "output_type": "stream",
     "text": [
      " 89%|████████▉ | 24/27 [4:55:10<47:34, 951.34s/it]"
     ]
    },
    {
     "name": "stdout",
     "output_type": "stream",
     "text": [
      "Extracted 22078.tar.gz to /lustre/hpc/project/icecube/HE_Nu_Aske_Oct2024/sqlite_pulses/Snowstorm\n",
      "Extracting /lustre/hpc/project/icecube/HE_Nu_Aske_Oct2024/tar.gz/Snowstorm_l2/22014.tar.gz...\n"
     ]
    },
    {
     "name": "stderr",
     "output_type": "stream",
     "text": [
      " 93%|█████████▎| 25/27 [5:06:38<29:04, 872.40s/it]"
     ]
    },
    {
     "name": "stdout",
     "output_type": "stream",
     "text": [
      "Extracted 22014.tar.gz to /lustre/hpc/project/icecube/HE_Nu_Aske_Oct2024/sqlite_pulses/Snowstorm\n",
      "Extracting /lustre/hpc/project/icecube/HE_Nu_Aske_Oct2024/tar.gz/Snowstorm_l2/22082.tar.gz...\n"
     ]
    },
    {
     "name": "stderr",
     "output_type": "stream",
     "text": [
      " 96%|█████████▋| 26/27 [5:10:29<11:20, 680.03s/it]"
     ]
    },
    {
     "name": "stdout",
     "output_type": "stream",
     "text": [
      "Extracted 22082.tar.gz to /lustre/hpc/project/icecube/HE_Nu_Aske_Oct2024/sqlite_pulses/Snowstorm\n",
      "Extracting /lustre/hpc/project/icecube/HE_Nu_Aske_Oct2024/tar.gz/Snowstorm_l2/22042.tar.gz...\n"
     ]
    },
    {
     "name": "stderr",
     "output_type": "stream",
     "text": [
      "100%|██████████| 27/27 [5:15:31<00:00, 701.18s/it]"
     ]
    },
    {
     "name": "stdout",
     "output_type": "stream",
     "text": [
      "Extracted 22042.tar.gz to /lustre/hpc/project/icecube/HE_Nu_Aske_Oct2024/sqlite_pulses/Snowstorm\n"
     ]
    },
    {
     "name": "stderr",
     "output_type": "stream",
     "text": [
      "\n"
     ]
    }
   ],
   "source": [
    "snowstorm_source_dir = \"/lustre/hpc/project/icecube/HE_Nu_Aske_Oct2024/tar.gz/Snowstorm_l2\"\n",
    "snowstorm_dest_dir = \"/lustre/hpc/project/icecube/HE_Nu_Aske_Oct2024/sqlite_pulses/Snowstorm\"\n",
    "extract_all_tar_gz(snowstorm_source_dir, snowstorm_dest_dir)\n",
    "# 315 min = 5 hours 15 min"
   ]
  },
  {
   "cell_type": "code",
   "execution_count": 5,
   "metadata": {},
   "outputs": [],
   "source": [
    "# 22010: 1e2 - 1e4 NuMu\n",
    "# 22011: 1e4 - 1e6 NuMu\n",
    "# 22012: 1e6 - 1e8 NuMu\n",
    "# 22013: 1e2 - 1e4 NuE\n",
    "# 22014: 1e4 - 1e6 NuE\n",
    "# 22015: 1e6 - 1e8 NuE\n",
    "# 22016: 1e2 - 1e4 NuTau\n",
    "# 22017: 1e4 - 1e6 NuTau\n",
    "# 22018: 1e6 - 1e8 NuTau"
   ]
  },
  {
   "cell_type": "code",
   "execution_count": 5,
   "metadata": {},
   "outputs": [],
   "source": [
    "db_NuMu_6_8 = \"/lustre/hpc/project/icecube/HE_Nu_Aske_Oct2024/sqlite_pulses/Snowstorm/22012/merged_part_1.db\"\n",
    "db_NuMu_4_6 = \"/lustre/hpc/project/icecube/HE_Nu_Aske_Oct2024/sqlite_pulses/Snowstorm/22011/merged_part_1.db\"\n",
    "db_NuMu_2_4 = \"/lustre/hpc/project/icecube/HE_Nu_Aske_Oct2024/sqlite_pulses/Snowstorm/22010/merged_part_1.db\"\n",
    "db_Corsika_5_1 = \"/lustre/hpc/project/icecube/HE_Nu_Aske_Oct2024/sqlite_pulses/Corsika/0005000-0005999/merged_part_1.db\"\n",
    "db_Corsika_3_1 = \"/lustre/hpc/project/icecube/HE_Nu_Aske_Oct2024/sqlite_pulses/Corsika/0003000-0003999/merged_part_1.db\"\n",
    "db_Corsika_7_7 = \"/lustre/hpc/project/icecube/HE_Nu_Aske_Oct2024/sqlite_pulses/Corsika/0007000-0007999/merged_part_7.db\"\n"
   ]
  },
  {
   "cell_type": "code",
   "execution_count": 6,
   "metadata": {},
   "outputs": [
    {
     "name": "stdout",
     "output_type": "stream",
     "text": [
      "['truth', 'SRTInIcePulses', 'event_no_SRTInIcePulses', 'OnlineL2_SplineMPE', 'LineFit', 'GNHighestEInIceParticle', 'GNHighestEDaughter', 'MCWeightDict', 'SnowStormParameters', 'FilterMask', 'idx_event_no', 'idx_dom_position', 'idx_string_dom_number']\n",
      "['truth', 'SRTInIcePulses', 'event_no_SRTInIcePulses', 'OnlineL2_SplineMPE', 'LineFit', 'GNHighestEInIceParticle', 'GNHighestEDaughter', 'MCWeightDict', 'FilterMask']\n"
     ]
    }
   ],
   "source": [
    "list_tables(db_NuMu_6_8)\n",
    "list_tables(db_Corsika_5_1)"
   ]
  },
  {
   "cell_type": "code",
   "execution_count": 7,
   "metadata": {},
   "outputs": [],
   "source": [
    "import sqlite3 as sql"
   ]
  },
  {
   "cell_type": "code",
   "execution_count": 8,
   "metadata": {},
   "outputs": [],
   "source": [
    "def convertDBtoDF(file:str, table:str, N_events:int = None) -> pd.DataFrame:\n",
    "    con = sql.connect(file)\n",
    "    # if N_events is None or N_events > N_events_total:\n",
    "    #     N_events = N_events_total\n",
    "    # Query to fetch the first `N_events` unique event_no values\n",
    "    event_no_query = f'SELECT DISTINCT event_no FROM {table} LIMIT {N_events}'\n",
    "    event_nos = pd.read_sql_query(event_no_query, con)['event_no'].tolist()\n",
    "    \n",
    "    # Use the selected event_no values to filter the main data\n",
    "    event_filter = ','.join(map(str, event_nos))  # Convert to comma-separated string for SQL IN clause\n",
    "    query = f'SELECT * FROM {table} WHERE event_no IN ({event_filter})'\n",
    "    \n",
    "    # Read data and close the connection\n",
    "    df = pd.read_sql_query(query, con)\n",
    "    con.close()\n",
    "    \n",
    "    return df"
   ]
  },
  {
   "cell_type": "code",
   "execution_count": 9,
   "metadata": {},
   "outputs": [],
   "source": [
    "def get_table_event_count(conn: sql.Connection, table: str) -> int:\n",
    "    cursor = conn.cursor()\n",
    "    cursor.execute(f\"SELECT COUNT(DISTINCT event_no) FROM {table}\")\n",
    "    event_count = cursor.fetchone()[0]\n",
    "    return event_count"
   ]
  },
  {
   "cell_type": "code",
   "execution_count": 10,
   "metadata": {},
   "outputs": [],
   "source": [
    "def print_table_event_count(file: str, table: str):\n",
    "    conn = sql.connect(file)\n",
    "    event_count = get_table_event_count(conn, table)\n",
    "    print(f\"Table {table} has {event_count:,} unique events\")\n",
    "    conn.close()"
   ]
  },
  {
   "cell_type": "code",
   "execution_count": 11,
   "metadata": {},
   "outputs": [],
   "source": [
    "# print_table_event_count(db_NuMu_2_4, \"SRTInIcePulses\")\n",
    "# 4,240,372 events\n",
    "# 2 min 40 sec"
   ]
  },
  {
   "cell_type": "code",
   "execution_count": 12,
   "metadata": {},
   "outputs": [],
   "source": [
    "# print_table_event_count(db_NuMu_4_6, \"SRTInIcePulses\")\n",
    "# 400,516 events\n",
    "# 2 min 30 sec"
   ]
  },
  {
   "cell_type": "code",
   "execution_count": 13,
   "metadata": {},
   "outputs": [],
   "source": [
    "# print_table_event_count(db_NuMu_6_8, \"SRTInIcePulses\")\n",
    "# 29,386 events\n",
    "# 3 min"
   ]
  },
  {
   "cell_type": "code",
   "execution_count": 14,
   "metadata": {},
   "outputs": [],
   "source": [
    "# print_table_event_count(db_Corsika_5_1, \"SRTInIcePulses\")\n",
    "# 234,283 events\n",
    "# 3 min 45 sec"
   ]
  },
  {
   "cell_type": "code",
   "execution_count": 15,
   "metadata": {},
   "outputs": [],
   "source": [
    "# print_table_event_count(db_Corsika_3_1, \"SRTInIcePulses\")"
   ]
  },
  {
   "cell_type": "code",
   "execution_count": 16,
   "metadata": {},
   "outputs": [],
   "source": [
    "# print_table_event_count(db_Corsika_7_7, \"SRTInIcePulses\")\n",
    "# 233,188 events"
   ]
  },
  {
   "cell_type": "code",
   "execution_count": null,
   "metadata": {},
   "outputs": [],
   "source": [
    "df_NuMu_2_4_MCWeightDic = convertDBtoDF(db_NuMu_2_4, \"MCWeightDict\", 1000)\n",
    "c = convertDBtoDF(db_NuMu_2_4, \"truth\", 1000)"
   ]
  },
  {
   "cell_type": "code",
   "execution_count": 22,
   "metadata": {},
   "outputs": [
    {
     "data": {
      "text/plain": [
       "Index(['BjorkenX', 'BjorkenY', 'CylinderHeight', 'CylinderRadius',\n",
       "       'DirectionWeight', 'EnergyLost', 'ImpactParam', 'InIceNeutrinoEnergy',\n",
       "       'InIceNeutrinoType', 'InjectionAreaCGS', 'InjectionCylinderHeight',\n",
       "       'InjectionCylinderRadius', 'InjectionOrigin_x', 'InjectionOrigin_y',\n",
       "       'InjectionOrigin_z', 'InteractionColumnDepthCGS',\n",
       "       'InteractionPositionWeight', 'InteractionType', 'InteractionTypeWeight',\n",
       "       'InteractionWeight', 'InteractionXsectionCGS', 'LengthInVolume',\n",
       "       'MaxAzimuth', 'MaxEnergyLog', 'MaxZenith', 'MinAzimuth', 'MinEnergyLog',\n",
       "       'MinZenith', 'NEvents', 'NInIceNus', 'OneWeight', 'OneWeightPerType',\n",
       "       'PowerLawIndex', 'PrimaryNeutrinoAzimuth', 'PrimaryNeutrinoEnergy',\n",
       "       'PrimaryNeutrinoType', 'PrimaryNeutrinoZenith', 'PropagationWeight',\n",
       "       'RangeInMWE', 'RangeInMeter', 'SelectionWeight', 'SimMode',\n",
       "       'SolidAngle', 'TotalColumnDepthCGS', 'TotalPrimaryWeight',\n",
       "       'TotalWeight', 'TotalXsectionCGS', 'TrueActiveLengthAfter',\n",
       "       'TrueActiveLengthBefore', 'TypeWeight', 'event_no'],\n",
       "      dtype='object')"
      ]
     },
     "execution_count": 22,
     "metadata": {},
     "output_type": "execute_result"
    }
   ],
   "source": [
    "df_NuMu_2_4_MCWeightDic.columns"
   ]
  },
  {
   "cell_type": "code",
   "execution_count": 30,
   "metadata": {},
   "outputs": [
    {
     "data": {
      "text/plain": [
       "MuonFilter_13\n",
       "1.0    593\n",
       "0.0    407\n",
       "Name: count, dtype: int64"
      ]
     },
     "execution_count": 30,
     "metadata": {},
     "output_type": "execute_result"
    }
   ],
   "source": [
    "df_NuMu_2_4_truth['MuonFilter_13'].value_counts()"
   ]
  },
  {
   "cell_type": "code",
   "execution_count": 31,
   "metadata": {},
   "outputs": [
    {
     "data": {
      "text/plain": [
       "MuonFilter_13\n",
       "0.0    54\n",
       "1.0    54\n",
       "Name: count, dtype: int64"
      ]
     },
     "execution_count": 31,
     "metadata": {},
     "output_type": "execute_result"
    }
   ],
   "source": [
    "mask = df_NuMu_2_4_MCWeightDic['InteractionType'] == 2.0\n",
    "df_NuMu_2_4_truth['MuonFilter_13'][mask].value_counts()"
   ]
  },
  {
   "cell_type": "code",
   "execution_count": 17,
   "metadata": {},
   "outputs": [],
   "source": [
    "df_corsika_5_1 = convertDBtoDF(db_Corsika_5_1, \"SRTInIcePulses\", 1000)\n",
    "df_corsika_3_1 = convertDBtoDF(db_Corsika_3_1, \"SRTInIcePulses\", 1000)\n",
    "df_corsika_7_7 = convertDBtoDF(db_Corsika_7_7, \"SRTInIcePulses\", 1000)\n",
    "# 45 sec"
   ]
  },
  {
   "cell_type": "code",
   "execution_count": 17,
   "metadata": {},
   "outputs": [
    {
     "data": {
      "text/plain": [
       "Index(['charge', 'dom_time', 'width', 'dom_x', 'dom_y', 'dom_z', 'pmt_area',\n",
       "       'rde', 'is_bright_dom', 'is_bad_dom', 'is_saturated_dom',\n",
       "       'is_errata_dom', 'event_time', 'hlc', 'awtd', 'string', 'pmt_number',\n",
       "       'dom_number', 'dom_type', 'event_no'],\n",
       "      dtype='object')"
      ]
     },
     "execution_count": 17,
     "metadata": {},
     "output_type": "execute_result"
    }
   ],
   "source": [
    "df_corsika_5_1.columns"
   ]
  },
  {
   "cell_type": "code",
   "execution_count": 16,
   "metadata": {},
   "outputs": [],
   "source": [
    "df_corsika_5_1_truth = convertDBtoDF(db_Corsika_5_1, \"truth\", 1000)\n",
    "df_corsika_3_1_truth = convertDBtoDF(db_Corsika_3_1, \"truth\", 1000)\n",
    "df_corsika_7_7_truth = convertDBtoDF(db_Corsika_7_7, \"truth\", 1000)\n",
    "# 1.6 sec"
   ]
  },
  {
   "cell_type": "code",
   "execution_count": 18,
   "metadata": {},
   "outputs": [
    {
     "data": {
      "text/plain": [
       "Index(['energy', 'position_x', 'position_y', 'position_z', 'azimuth', 'zenith',\n",
       "       'pid', 'event_time', 'interaction_type', 'elasticity', 'RunID',\n",
       "       'SubrunID', 'EventID', 'SubEventID', 'dbang_decay_length',\n",
       "       'track_length', 'stopped_muon', 'energy_track', 'energy_cascade',\n",
       "       'inelasticity', 'DeepCoreFilter_13', 'CascadeFilter_13',\n",
       "       'MuonFilter_13', 'OnlineL2Filter_17', 'L3_oscNext_bool',\n",
       "       'L4_oscNext_bool', 'L5_oscNext_bool', 'L6_oscNext_bool',\n",
       "       'L7_oscNext_bool', 'Homogenized_QTot', 'MCLabelClassification',\n",
       "       'MCLabelCoincidentMuons', 'MCLabelBgMuonMCPE',\n",
       "       'MCLabelBgMuonMCPECharge', 'GNLabelTrackEnergyDeposited',\n",
       "       'GNLabelTrackEnergyOnEntrance', 'GNLabelTrackEnergyOnEntrancePrimary',\n",
       "       'GNLabelTrackEnergyDepositedPrimary', 'GNLabelEnergyPrimary',\n",
       "       'GNLabelCascadeEnergyDepositedPrimary', 'GNLabelCascadeEnergyDeposited',\n",
       "       'GNLabelEnergyDepositedTotal', 'GNLabelEnergyDepositedPrimary',\n",
       "       'GNLabelHighestEInIceParticleIsChild',\n",
       "       'GNLabelHighestEInIceParticleDistance',\n",
       "       'GNLabelHighestEInIceParticleEFraction',\n",
       "       'GNLabelHighestEInIceParticleEOnEntrance',\n",
       "       'GNLabelHighestEDaughterDistance', 'GNLabelHighestEDaughterEFraction',\n",
       "       'event_no'],\n",
       "      dtype='object')"
      ]
     },
     "execution_count": 18,
     "metadata": {},
     "output_type": "execute_result"
    }
   ],
   "source": [
    "df_corsika_5_1_truth.columns"
   ]
  },
  {
   "cell_type": "code",
   "execution_count": 24,
   "metadata": {},
   "outputs": [],
   "source": [
    "df_NuMu_6_8_truth = convertDBtoDF(db_NuMu_6_8, \"truth\", 1000)"
   ]
  },
  {
   "cell_type": "code",
   "execution_count": 30,
   "metadata": {},
   "outputs": [
    {
     "data": {
      "text/plain": [
       "50"
      ]
     },
     "execution_count": 30,
     "metadata": {},
     "output_type": "execute_result"
    }
   ],
   "source": [
    "len(df_NuMu_6_8_truth.columns)"
   ]
  },
  {
   "cell_type": "code",
   "execution_count": 31,
   "metadata": {},
   "outputs": [
    {
     "data": {
      "text/plain": [
       "Index(['energy', 'position_x', 'position_y', 'position_z', 'azimuth', 'zenith',\n",
       "       'pid', 'event_time', 'interaction_type', 'elasticity', 'RunID',\n",
       "       'SubrunID', 'EventID', 'SubEventID', 'dbang_decay_length',\n",
       "       'track_length', 'stopped_muon', 'energy_track', 'energy_cascade',\n",
       "       'inelasticity', 'DeepCoreFilter_13', 'CascadeFilter_13',\n",
       "       'MuonFilter_13', 'OnlineL2Filter_17', 'L3_oscNext_bool',\n",
       "       'L4_oscNext_bool', 'L5_oscNext_bool', 'L6_oscNext_bool',\n",
       "       'L7_oscNext_bool', 'Homogenized_QTot', 'MCLabelClassification',\n",
       "       'MCLabelCoincidentMuons', 'MCLabelBgMuonMCPE',\n",
       "       'MCLabelBgMuonMCPECharge', 'GNLabelTrackEnergyDeposited',\n",
       "       'GNLabelTrackEnergyOnEntrance', 'GNLabelTrackEnergyOnEntrancePrimary',\n",
       "       'GNLabelTrackEnergyDepositedPrimary', 'GNLabelEnergyPrimary',\n",
       "       'GNLabelCascadeEnergyDepositedPrimary', 'GNLabelCascadeEnergyDeposited',\n",
       "       'GNLabelEnergyDepositedTotal', 'GNLabelEnergyDepositedPrimary',\n",
       "       'GNLabelHighestEInIceParticleIsChild',\n",
       "       'GNLabelHighestEInIceParticleDistance',\n",
       "       'GNLabelHighestEInIceParticleEFraction',\n",
       "       'GNLabelHighestEInIceParticleEOnEntrance',\n",
       "       'GNLabelHighestEDaughterDistance', 'GNLabelHighestEDaughterEFraction',\n",
       "       'event_no'],\n",
       "      dtype='object')"
      ]
     },
     "execution_count": 31,
     "metadata": {},
     "output_type": "execute_result"
    }
   ],
   "source": [
    "df_NuMu_6_8_truth.columns"
   ]
  },
  {
   "cell_type": "code",
   "execution_count": 28,
   "metadata": {},
   "outputs": [
    {
     "data": {
      "text/plain": [
       "50"
      ]
     },
     "execution_count": 28,
     "metadata": {},
     "output_type": "execute_result"
    }
   ],
   "source": [
    "# check two dataframs has the same columns: \n",
    "len(df_corsika_5_1_truth.columns == df_NuMu_6_8_truth.columns)"
   ]
  },
  {
   "cell_type": "code",
   "execution_count": 21,
   "metadata": {},
   "outputs": [],
   "source": [
    "df_NuMu_6_8_GN = convertDBtoDF(db_NuMu_6_8, \"GNHighestEInIceParticle\", 1000)"
   ]
  },
  {
   "cell_type": "code",
   "execution_count": 23,
   "metadata": {},
   "outputs": [
    {
     "data": {
      "text/plain": [
       "Index(['zenith_GNHighestEInIceParticle', 'azimuth_GNHighestEInIceParticle',\n",
       "       'dir_x_GNHighestEInIceParticle', 'dir_y_GNHighestEInIceParticle',\n",
       "       'dir_z_GNHighestEInIceParticle', 'pos_x_GNHighestEInIceParticle',\n",
       "       'pos_y_GNHighestEInIceParticle', 'pos_z_GNHighestEInIceParticle',\n",
       "       'time_GNHighestEInIceParticle', 'speed_GNHighestEInIceParticle',\n",
       "       'energy_GNHighestEInIceParticle', 'event_no'],\n",
       "      dtype='object')"
      ]
     },
     "execution_count": 23,
     "metadata": {},
     "output_type": "execute_result"
    }
   ],
   "source": [
    "df_NuMu_6_8_GN.columns"
   ]
  },
  {
   "cell_type": "code",
   "execution_count": 19,
   "metadata": {},
   "outputs": [],
   "source": [
    "df_NuMu_6_8_GNDaughter = convertDBtoDF(db_NuMu_6_8, \"GNHighestEDaughter\", 1000)"
   ]
  },
  {
   "cell_type": "code",
   "execution_count": 20,
   "metadata": {},
   "outputs": [
    {
     "data": {
      "text/plain": [
       "Index(['zenith_GNHighestEDaughter', 'azimuth_GNHighestEDaughter',\n",
       "       'dir_x_GNHighestEDaughter', 'dir_y_GNHighestEDaughter',\n",
       "       'dir_z_GNHighestEDaughter', 'pos_x_GNHighestEDaughter',\n",
       "       'pos_y_GNHighestEDaughter', 'pos_z_GNHighestEDaughter',\n",
       "       'time_GNHighestEDaughter', 'speed_GNHighestEDaughter',\n",
       "       'energy_GNHighestEDaughter', 'event_no'],\n",
       "      dtype='object')"
      ]
     },
     "execution_count": 20,
     "metadata": {},
     "output_type": "execute_result"
    }
   ],
   "source": [
    "df_NuMu_6_8_GNDaughter.columns"
   ]
  },
  {
   "cell_type": "code",
   "execution_count": 8,
   "metadata": {},
   "outputs": [],
   "source": [
    "df_NuMu_6_8 = convertDBtoDF(db_NuMu_6_8, \"SRTInIcePulses\", 1000)\n",
    "# 4 min"
   ]
  },
  {
   "cell_type": "code",
   "execution_count": 9,
   "metadata": {},
   "outputs": [
    {
     "data": {
      "text/plain": [
       "Index(['charge', 'dom_time', 'width', 'dom_x', 'dom_y', 'dom_z', 'pmt_area',\n",
       "       'rde', 'is_bright_dom', 'is_bad_dom', 'is_saturated_dom',\n",
       "       'is_errata_dom', 'event_time', 'hlc', 'awtd', 'string', 'pmt_number',\n",
       "       'dom_number', 'dom_type', 'event_no'],\n",
       "      dtype='object')"
      ]
     },
     "execution_count": 9,
     "metadata": {},
     "output_type": "execute_result"
    }
   ],
   "source": [
    "df_NuMu_6_8.columns"
   ]
  },
  {
   "cell_type": "code",
   "execution_count": 10,
   "metadata": {},
   "outputs": [
    {
     "data": {
      "text/plain": [
       "count    7.548250e+06\n",
       "mean     7.182760e+00\n",
       "std      2.311350e+01\n",
       "min      2.500000e-02\n",
       "25%      9.750000e-01\n",
       "50%      1.675000e+00\n",
       "75%      4.375000e+00\n",
       "max      2.374925e+03\n",
       "Name: charge, dtype: float64"
      ]
     },
     "execution_count": 10,
     "metadata": {},
     "output_type": "execute_result"
    }
   ],
   "source": [
    "df_NuMu_6_8['charge'].describe()"
   ]
  },
  {
   "cell_type": "code",
   "execution_count": 11,
   "metadata": {},
   "outputs": [],
   "source": [
    "argmax_max_charge = df_NuMu_6_8['charge'].idxmax()"
   ]
  },
  {
   "cell_type": "code",
   "execution_count": 12,
   "metadata": {},
   "outputs": [
    {
     "data": {
      "text/plain": [
       "4324797"
      ]
     },
     "execution_count": 12,
     "metadata": {},
     "output_type": "execute_result"
    }
   ],
   "source": [
    "argmax_max_charge"
   ]
  },
  {
   "cell_type": "code",
   "execution_count": 14,
   "metadata": {},
   "outputs": [
    {
     "data": {
      "text/plain": [
       "charge               2374.925049\n",
       "dom_time            12513.000000\n",
       "width                   8.000000\n",
       "dom_x                 544.070000\n",
       "dom_y                  55.890000\n",
       "dom_z                 264.500000\n",
       "pmt_area                0.044400\n",
       "rde                     1.000000\n",
       "is_bright_dom          -1.000000\n",
       "is_bad_dom             -1.000000\n",
       "is_saturated_dom        1.000000\n",
       "is_errata_dom           1.000000\n",
       "event_time          59000.171844\n",
       "hlc                     1.000000\n",
       "awtd                    0.000000\n",
       "string                 40.000000\n",
       "pmt_number              0.000000\n",
       "dom_number             15.000000\n",
       "dom_type               20.000000\n",
       "event_no              624.000000\n",
       "Name: 4324797, dtype: float64"
      ]
     },
     "execution_count": 14,
     "metadata": {},
     "output_type": "execute_result"
    }
   ],
   "source": [
    "df_NuMu_6_8.loc[argmax_max_charge]"
   ]
  },
  {
   "cell_type": "code",
   "execution_count": 23,
   "metadata": {},
   "outputs": [],
   "source": [
    "mask = ( (df_NuMu_6_8['event_no'] == 624) & \n",
    "         (df_NuMu_6_8['string'] == 40.0) & \n",
    "         (df_NuMu_6_8['dom_number'] == 15.0) )\n"
   ]
  },
  {
   "cell_type": "code",
   "execution_count": 27,
   "metadata": {},
   "outputs": [
    {
     "data": {
      "text/html": [
       "<div>\n",
       "<style scoped>\n",
       "    .dataframe tbody tr th:only-of-type {\n",
       "        vertical-align: middle;\n",
       "    }\n",
       "\n",
       "    .dataframe tbody tr th {\n",
       "        vertical-align: top;\n",
       "    }\n",
       "\n",
       "    .dataframe thead th {\n",
       "        text-align: right;\n",
       "    }\n",
       "</style>\n",
       "<table border=\"1\" class=\"dataframe\">\n",
       "  <thead>\n",
       "    <tr style=\"text-align: right;\">\n",
       "      <th></th>\n",
       "      <th>charge</th>\n",
       "      <th>dom_time</th>\n",
       "      <th>width</th>\n",
       "      <th>dom_x</th>\n",
       "      <th>dom_y</th>\n",
       "      <th>dom_z</th>\n",
       "      <th>pmt_area</th>\n",
       "      <th>rde</th>\n",
       "      <th>is_bright_dom</th>\n",
       "      <th>is_bad_dom</th>\n",
       "      <th>is_saturated_dom</th>\n",
       "      <th>is_errata_dom</th>\n",
       "      <th>event_time</th>\n",
       "      <th>hlc</th>\n",
       "      <th>awtd</th>\n",
       "      <th>string</th>\n",
       "      <th>pmt_number</th>\n",
       "      <th>dom_number</th>\n",
       "      <th>dom_type</th>\n",
       "      <th>event_no</th>\n",
       "    </tr>\n",
       "  </thead>\n",
       "  <tbody>\n",
       "    <tr>\n",
       "      <th>4324673</th>\n",
       "      <td>0.625000</td>\n",
       "      <td>11793.0</td>\n",
       "      <td>1.0</td>\n",
       "      <td>544.07</td>\n",
       "      <td>55.89</td>\n",
       "      <td>264.5</td>\n",
       "      <td>0.0444</td>\n",
       "      <td>1.0</td>\n",
       "      <td>-1.0</td>\n",
       "      <td>-1.0</td>\n",
       "      <td>1.0</td>\n",
       "      <td>1.0</td>\n",
       "      <td>59000.171844</td>\n",
       "      <td>1.0</td>\n",
       "      <td>1.0</td>\n",
       "      <td>40.0</td>\n",
       "      <td>0.0</td>\n",
       "      <td>15.0</td>\n",
       "      <td>20.0</td>\n",
       "      <td>624</td>\n",
       "    </tr>\n",
       "    <tr>\n",
       "      <th>4324674</th>\n",
       "      <td>1.975000</td>\n",
       "      <td>11795.0</td>\n",
       "      <td>1.0</td>\n",
       "      <td>544.07</td>\n",
       "      <td>55.89</td>\n",
       "      <td>264.5</td>\n",
       "      <td>0.0444</td>\n",
       "      <td>1.0</td>\n",
       "      <td>-1.0</td>\n",
       "      <td>-1.0</td>\n",
       "      <td>1.0</td>\n",
       "      <td>1.0</td>\n",
       "      <td>59000.171844</td>\n",
       "      <td>1.0</td>\n",
       "      <td>1.0</td>\n",
       "      <td>40.0</td>\n",
       "      <td>0.0</td>\n",
       "      <td>15.0</td>\n",
       "      <td>20.0</td>\n",
       "      <td>624</td>\n",
       "    </tr>\n",
       "    <tr>\n",
       "      <th>4324675</th>\n",
       "      <td>8.225000</td>\n",
       "      <td>11802.0</td>\n",
       "      <td>1.0</td>\n",
       "      <td>544.07</td>\n",
       "      <td>55.89</td>\n",
       "      <td>264.5</td>\n",
       "      <td>0.0444</td>\n",
       "      <td>1.0</td>\n",
       "      <td>-1.0</td>\n",
       "      <td>-1.0</td>\n",
       "      <td>1.0</td>\n",
       "      <td>1.0</td>\n",
       "      <td>59000.171844</td>\n",
       "      <td>1.0</td>\n",
       "      <td>1.0</td>\n",
       "      <td>40.0</td>\n",
       "      <td>0.0</td>\n",
       "      <td>15.0</td>\n",
       "      <td>20.0</td>\n",
       "      <td>624</td>\n",
       "    </tr>\n",
       "    <tr>\n",
       "      <th>4324676</th>\n",
       "      <td>20.775000</td>\n",
       "      <td>11808.0</td>\n",
       "      <td>1.0</td>\n",
       "      <td>544.07</td>\n",
       "      <td>55.89</td>\n",
       "      <td>264.5</td>\n",
       "      <td>0.0444</td>\n",
       "      <td>1.0</td>\n",
       "      <td>-1.0</td>\n",
       "      <td>-1.0</td>\n",
       "      <td>1.0</td>\n",
       "      <td>1.0</td>\n",
       "      <td>59000.171844</td>\n",
       "      <td>1.0</td>\n",
       "      <td>1.0</td>\n",
       "      <td>40.0</td>\n",
       "      <td>0.0</td>\n",
       "      <td>15.0</td>\n",
       "      <td>20.0</td>\n",
       "      <td>624</td>\n",
       "    </tr>\n",
       "    <tr>\n",
       "      <th>4324677</th>\n",
       "      <td>52.424999</td>\n",
       "      <td>11812.0</td>\n",
       "      <td>1.0</td>\n",
       "      <td>544.07</td>\n",
       "      <td>55.89</td>\n",
       "      <td>264.5</td>\n",
       "      <td>0.0444</td>\n",
       "      <td>1.0</td>\n",
       "      <td>-1.0</td>\n",
       "      <td>-1.0</td>\n",
       "      <td>1.0</td>\n",
       "      <td>1.0</td>\n",
       "      <td>59000.171844</td>\n",
       "      <td>1.0</td>\n",
       "      <td>1.0</td>\n",
       "      <td>40.0</td>\n",
       "      <td>0.0</td>\n",
       "      <td>15.0</td>\n",
       "      <td>20.0</td>\n",
       "      <td>624</td>\n",
       "    </tr>\n",
       "    <tr>\n",
       "      <th>...</th>\n",
       "      <td>...</td>\n",
       "      <td>...</td>\n",
       "      <td>...</td>\n",
       "      <td>...</td>\n",
       "      <td>...</td>\n",
       "      <td>...</td>\n",
       "      <td>...</td>\n",
       "      <td>...</td>\n",
       "      <td>...</td>\n",
       "      <td>...</td>\n",
       "      <td>...</td>\n",
       "      <td>...</td>\n",
       "      <td>...</td>\n",
       "      <td>...</td>\n",
       "      <td>...</td>\n",
       "      <td>...</td>\n",
       "      <td>...</td>\n",
       "      <td>...</td>\n",
       "      <td>...</td>\n",
       "      <td>...</td>\n",
       "    </tr>\n",
       "    <tr>\n",
       "      <th>4324935</th>\n",
       "      <td>36.375000</td>\n",
       "      <td>20595.0</td>\n",
       "      <td>8.0</td>\n",
       "      <td>544.07</td>\n",
       "      <td>55.89</td>\n",
       "      <td>264.5</td>\n",
       "      <td>0.0444</td>\n",
       "      <td>1.0</td>\n",
       "      <td>-1.0</td>\n",
       "      <td>-1.0</td>\n",
       "      <td>1.0</td>\n",
       "      <td>1.0</td>\n",
       "      <td>59000.171844</td>\n",
       "      <td>1.0</td>\n",
       "      <td>0.0</td>\n",
       "      <td>40.0</td>\n",
       "      <td>0.0</td>\n",
       "      <td>15.0</td>\n",
       "      <td>20.0</td>\n",
       "      <td>624</td>\n",
       "    </tr>\n",
       "    <tr>\n",
       "      <th>4324936</th>\n",
       "      <td>34.974998</td>\n",
       "      <td>20627.0</td>\n",
       "      <td>8.0</td>\n",
       "      <td>544.07</td>\n",
       "      <td>55.89</td>\n",
       "      <td>264.5</td>\n",
       "      <td>0.0444</td>\n",
       "      <td>1.0</td>\n",
       "      <td>-1.0</td>\n",
       "      <td>-1.0</td>\n",
       "      <td>1.0</td>\n",
       "      <td>1.0</td>\n",
       "      <td>59000.171844</td>\n",
       "      <td>1.0</td>\n",
       "      <td>0.0</td>\n",
       "      <td>40.0</td>\n",
       "      <td>0.0</td>\n",
       "      <td>15.0</td>\n",
       "      <td>20.0</td>\n",
       "      <td>624</td>\n",
       "    </tr>\n",
       "    <tr>\n",
       "      <th>4324937</th>\n",
       "      <td>55.025002</td>\n",
       "      <td>20670.0</td>\n",
       "      <td>8.0</td>\n",
       "      <td>544.07</td>\n",
       "      <td>55.89</td>\n",
       "      <td>264.5</td>\n",
       "      <td>0.0444</td>\n",
       "      <td>1.0</td>\n",
       "      <td>-1.0</td>\n",
       "      <td>-1.0</td>\n",
       "      <td>1.0</td>\n",
       "      <td>1.0</td>\n",
       "      <td>59000.171844</td>\n",
       "      <td>1.0</td>\n",
       "      <td>0.0</td>\n",
       "      <td>40.0</td>\n",
       "      <td>0.0</td>\n",
       "      <td>15.0</td>\n",
       "      <td>20.0</td>\n",
       "      <td>624</td>\n",
       "    </tr>\n",
       "    <tr>\n",
       "      <th>4324938</th>\n",
       "      <td>37.724998</td>\n",
       "      <td>20739.0</td>\n",
       "      <td>6.0</td>\n",
       "      <td>544.07</td>\n",
       "      <td>55.89</td>\n",
       "      <td>264.5</td>\n",
       "      <td>0.0444</td>\n",
       "      <td>1.0</td>\n",
       "      <td>-1.0</td>\n",
       "      <td>-1.0</td>\n",
       "      <td>1.0</td>\n",
       "      <td>1.0</td>\n",
       "      <td>59000.171844</td>\n",
       "      <td>1.0</td>\n",
       "      <td>0.0</td>\n",
       "      <td>40.0</td>\n",
       "      <td>0.0</td>\n",
       "      <td>15.0</td>\n",
       "      <td>20.0</td>\n",
       "      <td>624</td>\n",
       "    </tr>\n",
       "    <tr>\n",
       "      <th>4324939</th>\n",
       "      <td>30.275000</td>\n",
       "      <td>20745.0</td>\n",
       "      <td>8.0</td>\n",
       "      <td>544.07</td>\n",
       "      <td>55.89</td>\n",
       "      <td>264.5</td>\n",
       "      <td>0.0444</td>\n",
       "      <td>1.0</td>\n",
       "      <td>-1.0</td>\n",
       "      <td>-1.0</td>\n",
       "      <td>1.0</td>\n",
       "      <td>1.0</td>\n",
       "      <td>59000.171844</td>\n",
       "      <td>1.0</td>\n",
       "      <td>0.0</td>\n",
       "      <td>40.0</td>\n",
       "      <td>0.0</td>\n",
       "      <td>15.0</td>\n",
       "      <td>20.0</td>\n",
       "      <td>624</td>\n",
       "    </tr>\n",
       "  </tbody>\n",
       "</table>\n",
       "<p>267 rows × 20 columns</p>\n",
       "</div>"
      ],
      "text/plain": [
       "            charge  dom_time  width   dom_x  dom_y  dom_z  pmt_area  rde  \\\n",
       "4324673   0.625000   11793.0    1.0  544.07  55.89  264.5    0.0444  1.0   \n",
       "4324674   1.975000   11795.0    1.0  544.07  55.89  264.5    0.0444  1.0   \n",
       "4324675   8.225000   11802.0    1.0  544.07  55.89  264.5    0.0444  1.0   \n",
       "4324676  20.775000   11808.0    1.0  544.07  55.89  264.5    0.0444  1.0   \n",
       "4324677  52.424999   11812.0    1.0  544.07  55.89  264.5    0.0444  1.0   \n",
       "...            ...       ...    ...     ...    ...    ...       ...  ...   \n",
       "4324935  36.375000   20595.0    8.0  544.07  55.89  264.5    0.0444  1.0   \n",
       "4324936  34.974998   20627.0    8.0  544.07  55.89  264.5    0.0444  1.0   \n",
       "4324937  55.025002   20670.0    8.0  544.07  55.89  264.5    0.0444  1.0   \n",
       "4324938  37.724998   20739.0    6.0  544.07  55.89  264.5    0.0444  1.0   \n",
       "4324939  30.275000   20745.0    8.0  544.07  55.89  264.5    0.0444  1.0   \n",
       "\n",
       "         is_bright_dom  is_bad_dom  is_saturated_dom  is_errata_dom  \\\n",
       "4324673           -1.0        -1.0               1.0            1.0   \n",
       "4324674           -1.0        -1.0               1.0            1.0   \n",
       "4324675           -1.0        -1.0               1.0            1.0   \n",
       "4324676           -1.0        -1.0               1.0            1.0   \n",
       "4324677           -1.0        -1.0               1.0            1.0   \n",
       "...                ...         ...               ...            ...   \n",
       "4324935           -1.0        -1.0               1.0            1.0   \n",
       "4324936           -1.0        -1.0               1.0            1.0   \n",
       "4324937           -1.0        -1.0               1.0            1.0   \n",
       "4324938           -1.0        -1.0               1.0            1.0   \n",
       "4324939           -1.0        -1.0               1.0            1.0   \n",
       "\n",
       "           event_time  hlc  awtd  string  pmt_number  dom_number  dom_type  \\\n",
       "4324673  59000.171844  1.0   1.0    40.0         0.0        15.0      20.0   \n",
       "4324674  59000.171844  1.0   1.0    40.0         0.0        15.0      20.0   \n",
       "4324675  59000.171844  1.0   1.0    40.0         0.0        15.0      20.0   \n",
       "4324676  59000.171844  1.0   1.0    40.0         0.0        15.0      20.0   \n",
       "4324677  59000.171844  1.0   1.0    40.0         0.0        15.0      20.0   \n",
       "...               ...  ...   ...     ...         ...         ...       ...   \n",
       "4324935  59000.171844  1.0   0.0    40.0         0.0        15.0      20.0   \n",
       "4324936  59000.171844  1.0   0.0    40.0         0.0        15.0      20.0   \n",
       "4324937  59000.171844  1.0   0.0    40.0         0.0        15.0      20.0   \n",
       "4324938  59000.171844  1.0   0.0    40.0         0.0        15.0      20.0   \n",
       "4324939  59000.171844  1.0   0.0    40.0         0.0        15.0      20.0   \n",
       "\n",
       "         event_no  \n",
       "4324673       624  \n",
       "4324674       624  \n",
       "4324675       624  \n",
       "4324676       624  \n",
       "4324677       624  \n",
       "...           ...  \n",
       "4324935       624  \n",
       "4324936       624  \n",
       "4324937       624  \n",
       "4324938       624  \n",
       "4324939       624  \n",
       "\n",
       "[267 rows x 20 columns]"
      ]
     },
     "execution_count": 27,
     "metadata": {},
     "output_type": "execute_result"
    }
   ],
   "source": [
    "df_NuMu_6_8[mask]"
   ]
  },
  {
   "cell_type": "code",
   "execution_count": 33,
   "metadata": {},
   "outputs": [
    {
     "data": {
      "text/plain": [
       "array([[<Axes: title={'center': 'charge'}>]], dtype=object)"
      ]
     },
     "execution_count": 33,
     "metadata": {},
     "output_type": "execute_result"
    },
    {
     "data": {
      "image/png": "[encoded data removed]",
      "text/plain": [
       "<Figure size 640x480 with 1 Axes>"
      ]
     },
     "metadata": {},
     "output_type": "display_data"
    }
   ],
   "source": [
    "df_NuMu_6_8[mask].hist(column='charge', bins=10, range=(0, 20))"
   ]
  },
  {
   "cell_type": "code",
   "execution_count": 28,
   "metadata": {},
   "outputs": [
    {
     "name": "stdout",
     "output_type": "stream",
     "text": [
      "charge               2374.925049\n",
      "dom_time            12513.000000\n",
      "width                   8.000000\n",
      "dom_x                 544.070000\n",
      "dom_y                  55.890000\n",
      "dom_z                 264.500000\n",
      "pmt_area                0.044400\n",
      "rde                     1.000000\n",
      "is_bright_dom          -1.000000\n",
      "is_bad_dom             -1.000000\n",
      "is_saturated_dom        1.000000\n",
      "is_errata_dom           1.000000\n",
      "event_time          59000.171844\n",
      "hlc                     1.000000\n",
      "awtd                    0.000000\n",
      "string                 40.000000\n",
      "pmt_number              0.000000\n",
      "dom_number             15.000000\n",
      "dom_type               20.000000\n",
      "event_no              624.000000\n",
      "Name: 4324797, dtype: float64\n"
     ]
    }
   ],
   "source": [
    "max_charge_row = df_NuMu_6_8[mask].loc[df_NuMu_6_8[mask]['charge'].idxmax()]\n",
    "print(max_charge_row)\n"
   ]
  },
  {
   "cell_type": "code",
   "execution_count": null,
   "metadata": {},
   "outputs": [],
   "source": [
    "df_NuMu_6_8['charge'].hist(bins=100)"
   ]
  },
  {
   "cell_type": "code",
   "execution_count": 13,
   "metadata": {},
   "outputs": [],
   "source": [
    "df_NuMu_6_8_truth = convertDBtoDF(db_NuMu_6_8, \"truth\", 100000)\n",
    "# 2 min"
   ]
  },
  {
   "cell_type": "code",
   "execution_count": 14,
   "metadata": {},
   "outputs": [
    {
     "data": {
      "text/plain": [
       "Index(['energy', 'position_x', 'position_y', 'position_z', 'azimuth', 'zenith',\n",
       "       'pid', 'event_time', 'interaction_type', 'elasticity', 'RunID',\n",
       "       'SubrunID', 'EventID', 'SubEventID', 'dbang_decay_length',\n",
       "       'track_length', 'stopped_muon', 'energy_track', 'energy_cascade',\n",
       "       'inelasticity', 'DeepCoreFilter_13', 'CascadeFilter_13',\n",
       "       'MuonFilter_13', 'OnlineL2Filter_17', 'L3_oscNext_bool',\n",
       "       'L4_oscNext_bool', 'L5_oscNext_bool', 'L6_oscNext_bool',\n",
       "       'L7_oscNext_bool', 'Homogenized_QTot', 'MCLabelClassification',\n",
       "       'MCLabelCoincidentMuons', 'MCLabelBgMuonMCPE',\n",
       "       'MCLabelBgMuonMCPECharge', 'GNLabelTrackEnergyDeposited',\n",
       "       'GNLabelTrackEnergyOnEntrance', 'GNLabelTrackEnergyOnEntrancePrimary',\n",
       "       'GNLabelTrackEnergyDepositedPrimary', 'GNLabelEnergyPrimary',\n",
       "       'GNLabelCascadeEnergyDepositedPrimary', 'GNLabelCascadeEnergyDeposited',\n",
       "       'GNLabelEnergyDepositedTotal', 'GNLabelEnergyDepositedPrimary',\n",
       "       'GNLabelHighestEInIceParticleIsChild',\n",
       "       'GNLabelHighestEInIceParticleDistance',\n",
       "       'GNLabelHighestEInIceParticleEFraction',\n",
       "       'GNLabelHighestEInIceParticleEOnEntrance',\n",
       "       'GNLabelHighestEDaughterDistance', 'GNLabelHighestEDaughterEFraction',\n",
       "       'event_no'],\n",
       "      dtype='object')"
      ]
     },
     "execution_count": 14,
     "metadata": {},
     "output_type": "execute_result"
    }
   ],
   "source": [
    "df_NuMu_6_8_truth.columns"
   ]
  },
  {
   "cell_type": "code",
   "execution_count": 22,
   "metadata": {},
   "outputs": [
    {
     "data": {
      "text/html": [
       "<div>\n",
       "<style scoped>\n",
       "    .dataframe tbody tr th:only-of-type {\n",
       "        vertical-align: middle;\n",
       "    }\n",
       "\n",
       "    .dataframe tbody tr th {\n",
       "        vertical-align: top;\n",
       "    }\n",
       "\n",
       "    .dataframe thead th {\n",
       "        text-align: right;\n",
       "    }\n",
       "</style>\n",
       "<table border=\"1\" class=\"dataframe\">\n",
       "  <thead>\n",
       "    <tr style=\"text-align: right;\">\n",
       "      <th></th>\n",
       "      <th>position_x</th>\n",
       "      <th>position_y</th>\n",
       "      <th>position_z</th>\n",
       "    </tr>\n",
       "  </thead>\n",
       "  <tbody>\n",
       "    <tr>\n",
       "      <th>0</th>\n",
       "      <td>4.413257e+02</td>\n",
       "      <td>-1.134763e+03</td>\n",
       "      <td>1.947884e+03</td>\n",
       "    </tr>\n",
       "    <tr>\n",
       "      <th>1</th>\n",
       "      <td>1.150305e+06</td>\n",
       "      <td>-1.315402e+06</td>\n",
       "      <td>-2.422512e+05</td>\n",
       "    </tr>\n",
       "    <tr>\n",
       "      <th>2</th>\n",
       "      <td>-2.110016e+03</td>\n",
       "      <td>1.871605e+02</td>\n",
       "      <td>1.947648e+03</td>\n",
       "    </tr>\n",
       "    <tr>\n",
       "      <th>3</th>\n",
       "      <td>2.609275e+02</td>\n",
       "      <td>-1.654963e+03</td>\n",
       "      <td>1.947780e+03</td>\n",
       "    </tr>\n",
       "    <tr>\n",
       "      <th>4</th>\n",
       "      <td>1.944014e+03</td>\n",
       "      <td>3.089538e+03</td>\n",
       "      <td>1.946955e+03</td>\n",
       "    </tr>\n",
       "    <tr>\n",
       "      <th>...</th>\n",
       "      <td>...</td>\n",
       "      <td>...</td>\n",
       "      <td>...</td>\n",
       "    </tr>\n",
       "    <tr>\n",
       "      <th>29381</th>\n",
       "      <td>-9.147304e+02</td>\n",
       "      <td>1.599477e+02</td>\n",
       "      <td>1.947932e+03</td>\n",
       "    </tr>\n",
       "    <tr>\n",
       "      <th>29382</th>\n",
       "      <td>2.407730e+03</td>\n",
       "      <td>2.092120e+03</td>\n",
       "      <td>1.947202e+03</td>\n",
       "    </tr>\n",
       "    <tr>\n",
       "      <th>29383</th>\n",
       "      <td>-2.352021e+03</td>\n",
       "      <td>-1.292281e+03</td>\n",
       "      <td>1.947435e+03</td>\n",
       "    </tr>\n",
       "    <tr>\n",
       "      <th>29384</th>\n",
       "      <td>-3.179350e+06</td>\n",
       "      <td>4.552421e+06</td>\n",
       "      <td>-9.502167e+06</td>\n",
       "    </tr>\n",
       "    <tr>\n",
       "      <th>29385</th>\n",
       "      <td>-3.277237e+03</td>\n",
       "      <td>-1.056697e+03</td>\n",
       "      <td>1.947070e+03</td>\n",
       "    </tr>\n",
       "  </tbody>\n",
       "</table>\n",
       "<p>29386 rows × 3 columns</p>\n",
       "</div>"
      ],
      "text/plain": [
       "         position_x    position_y    position_z\n",
       "0      4.413257e+02 -1.134763e+03  1.947884e+03\n",
       "1      1.150305e+06 -1.315402e+06 -2.422512e+05\n",
       "2     -2.110016e+03  1.871605e+02  1.947648e+03\n",
       "3      2.609275e+02 -1.654963e+03  1.947780e+03\n",
       "4      1.944014e+03  3.089538e+03  1.946955e+03\n",
       "...             ...           ...           ...\n",
       "29381 -9.147304e+02  1.599477e+02  1.947932e+03\n",
       "29382  2.407730e+03  2.092120e+03  1.947202e+03\n",
       "29383 -2.352021e+03 -1.292281e+03  1.947435e+03\n",
       "29384 -3.179350e+06  4.552421e+06 -9.502167e+06\n",
       "29385 -3.277237e+03 -1.056697e+03  1.947070e+03\n",
       "\n",
       "[29386 rows x 3 columns]"
      ]
     },
     "execution_count": 22,
     "metadata": {},
     "output_type": "execute_result"
    }
   ],
   "source": [
    "df_NuMu_6_8_truth[['position_x', 'position_y', 'position_z']]"
   ]
  },
  {
   "cell_type": "code",
   "execution_count": 36,
   "metadata": {},
   "outputs": [
    {
     "data": {
      "text/plain": [
       "DeepCoreFilter_13\n",
       "0.0    28719\n",
       "1.0      667\n",
       "Name: count, dtype: int64"
      ]
     },
     "execution_count": 36,
     "metadata": {},
     "output_type": "execute_result"
    }
   ],
   "source": [
    "df_NuMu_6_8_truth['DeepCoreFilter_13'].value_counts()"
   ]
  },
  {
   "cell_type": "code",
   "execution_count": 37,
   "metadata": {},
   "outputs": [
    {
     "data": {
      "text/plain": [
       "CascadeFilter_13\n",
       "1.0    18114\n",
       "0.0    11272\n",
       "Name: count, dtype: int64"
      ]
     },
     "execution_count": 37,
     "metadata": {},
     "output_type": "execute_result"
    }
   ],
   "source": [
    "df_NuMu_6_8_truth['CascadeFilter_13'].value_counts()"
   ]
  },
  {
   "cell_type": "code",
   "execution_count": 38,
   "metadata": {},
   "outputs": [
    {
     "data": {
      "text/plain": [
       "MuonFilter_13\n",
       "1.0    26176\n",
       "0.0     3210\n",
       "Name: count, dtype: int64"
      ]
     },
     "execution_count": 38,
     "metadata": {},
     "output_type": "execute_result"
    }
   ],
   "source": [
    "df_NuMu_6_8_truth['MuonFilter_13'].value_counts()"
   ]
  },
  {
   "cell_type": "code",
   "execution_count": 34,
   "metadata": {},
   "outputs": [
    {
     "data": {
      "text/html": [
       "<div>\n",
       "<style scoped>\n",
       "    .dataframe tbody tr th:only-of-type {\n",
       "        vertical-align: middle;\n",
       "    }\n",
       "\n",
       "    .dataframe tbody tr th {\n",
       "        vertical-align: top;\n",
       "    }\n",
       "\n",
       "    .dataframe thead th {\n",
       "        text-align: right;\n",
       "    }\n",
       "</style>\n",
       "<table border=\"1\" class=\"dataframe\">\n",
       "  <thead>\n",
       "    <tr style=\"text-align: right;\">\n",
       "      <th></th>\n",
       "      <th>DeepCoreFilter_13</th>\n",
       "      <th>CascadeFilter_13</th>\n",
       "      <th>MuonFilter_13</th>\n",
       "    </tr>\n",
       "  </thead>\n",
       "  <tbody>\n",
       "    <tr>\n",
       "      <th>0</th>\n",
       "      <td>0.0</td>\n",
       "      <td>0.0</td>\n",
       "      <td>0.0</td>\n",
       "    </tr>\n",
       "    <tr>\n",
       "      <th>1</th>\n",
       "      <td>0.0</td>\n",
       "      <td>1.0</td>\n",
       "      <td>1.0</td>\n",
       "    </tr>\n",
       "    <tr>\n",
       "      <th>2</th>\n",
       "      <td>0.0</td>\n",
       "      <td>0.0</td>\n",
       "      <td>1.0</td>\n",
       "    </tr>\n",
       "    <tr>\n",
       "      <th>3</th>\n",
       "      <td>0.0</td>\n",
       "      <td>1.0</td>\n",
       "      <td>1.0</td>\n",
       "    </tr>\n",
       "    <tr>\n",
       "      <th>4</th>\n",
       "      <td>0.0</td>\n",
       "      <td>1.0</td>\n",
       "      <td>1.0</td>\n",
       "    </tr>\n",
       "    <tr>\n",
       "      <th>...</th>\n",
       "      <td>...</td>\n",
       "      <td>...</td>\n",
       "      <td>...</td>\n",
       "    </tr>\n",
       "    <tr>\n",
       "      <th>29381</th>\n",
       "      <td>0.0</td>\n",
       "      <td>0.0</td>\n",
       "      <td>1.0</td>\n",
       "    </tr>\n",
       "    <tr>\n",
       "      <th>29382</th>\n",
       "      <td>0.0</td>\n",
       "      <td>1.0</td>\n",
       "      <td>1.0</td>\n",
       "    </tr>\n",
       "    <tr>\n",
       "      <th>29383</th>\n",
       "      <td>0.0</td>\n",
       "      <td>1.0</td>\n",
       "      <td>1.0</td>\n",
       "    </tr>\n",
       "    <tr>\n",
       "      <th>29384</th>\n",
       "      <td>0.0</td>\n",
       "      <td>1.0</td>\n",
       "      <td>1.0</td>\n",
       "    </tr>\n",
       "    <tr>\n",
       "      <th>29385</th>\n",
       "      <td>0.0</td>\n",
       "      <td>0.0</td>\n",
       "      <td>1.0</td>\n",
       "    </tr>\n",
       "  </tbody>\n",
       "</table>\n",
       "<p>29386 rows × 3 columns</p>\n",
       "</div>"
      ],
      "text/plain": [
       "       DeepCoreFilter_13  CascadeFilter_13  MuonFilter_13\n",
       "0                    0.0               0.0            0.0\n",
       "1                    0.0               1.0            1.0\n",
       "2                    0.0               0.0            1.0\n",
       "3                    0.0               1.0            1.0\n",
       "4                    0.0               1.0            1.0\n",
       "...                  ...               ...            ...\n",
       "29381                0.0               0.0            1.0\n",
       "29382                0.0               1.0            1.0\n",
       "29383                0.0               1.0            1.0\n",
       "29384                0.0               1.0            1.0\n",
       "29385                0.0               0.0            1.0\n",
       "\n",
       "[29386 rows x 3 columns]"
      ]
     },
     "execution_count": 34,
     "metadata": {},
     "output_type": "execute_result"
    }
   ],
   "source": [
    "df_NuMu_6_8_truth[['DeepCoreFilter_13', 'CascadeFilter_13','MuonFilter_13']]"
   ]
  },
  {
   "cell_type": "code",
   "execution_count": 23,
   "metadata": {},
   "outputs": [
    {
     "data": {
      "text/plain": [
       "energy_track\n",
       "-1.000000e+00    29284\n",
       " 0.000000e+00       19\n",
       " 1.201948e+06        2\n",
       " 1.441746e+07        2\n",
       " 6.786467e+06        2\n",
       "                 ...  \n",
       " 1.586677e+06        1\n",
       " 3.788963e+06        1\n",
       " 1.397290e+06        1\n",
       " 9.378317e+06        1\n",
       " 1.880059e+06        1\n",
       "Name: count, Length: 82, dtype: int64"
      ]
     },
     "execution_count": 23,
     "metadata": {},
     "output_type": "execute_result"
    }
   ],
   "source": [
    "df_NuMu_6_8_truth['energy_track'].value_counts()"
   ]
  },
  {
   "cell_type": "code",
   "execution_count": 24,
   "metadata": {},
   "outputs": [
    {
     "data": {
      "text/plain": [
       "energy_cascade\n",
       "-1.000000e+00    29284\n",
       " 1.823670e+02        2\n",
       " 4.054703e+02        2\n",
       " 1.053989e+02        2\n",
       " 8.588312e+02        1\n",
       "                 ...  \n",
       " 8.955036e+02        1\n",
       " 6.787026e+02        1\n",
       " 5.164571e+06        1\n",
       " 5.805719e+02        1\n",
       " 5.322728e+02        1\n",
       "Name: count, Length: 100, dtype: int64"
      ]
     },
     "execution_count": 24,
     "metadata": {},
     "output_type": "execute_result"
    }
   ],
   "source": [
    "df_NuMu_6_8_truth['energy_cascade'].value_counts()"
   ]
  },
  {
   "cell_type": "code",
   "execution_count": 25,
   "metadata": {},
   "outputs": [
    {
     "data": {
      "text/plain": [
       "track_length\n",
       "-1.0    29386\n",
       "Name: count, dtype: int64"
      ]
     },
     "execution_count": 25,
     "metadata": {},
     "output_type": "execute_result"
    }
   ],
   "source": [
    "df_NuMu_6_8_truth['track_length'].value_counts()"
   ]
  },
  {
   "cell_type": "code",
   "execution_count": 26,
   "metadata": {},
   "outputs": [
    {
     "data": {
      "text/plain": [
       "dbang_decay_length\n",
       "-1.000000e+00    23227\n",
       " 0.000000e+00        4\n",
       " 1.241777e+06        2\n",
       " 6.080187e+05        2\n",
       " 1.273135e+05        2\n",
       "                 ...  \n",
       " 9.767050e+04        1\n",
       " 7.872545e+05        1\n",
       " 3.451567e+05        1\n",
       " 4.494557e+05        1\n",
       " 9.763900e+05        1\n",
       "Name: count, Length: 6088, dtype: int64"
      ]
     },
     "execution_count": 26,
     "metadata": {},
     "output_type": "execute_result"
    }
   ],
   "source": [
    "df_NuMu_6_8_truth['dbang_decay_length'].value_counts()"
   ]
  },
  {
   "cell_type": "code",
   "execution_count": 27,
   "metadata": {},
   "outputs": [
    {
     "data": {
      "text/plain": [
       "stopped_muon\n",
       "-1.0    29386\n",
       "Name: count, dtype: int64"
      ]
     },
     "execution_count": 27,
     "metadata": {},
     "output_type": "execute_result"
    }
   ],
   "source": [
    "df_NuMu_6_8_truth['stopped_muon'].value_counts()"
   ]
  },
  {
   "cell_type": "code",
   "execution_count": 28,
   "metadata": {},
   "outputs": [
    {
     "data": {
      "text/plain": [
       "interaction_type\n",
       "1.0    26876\n",
       "2.0     2510\n",
       "Name: count, dtype: int64"
      ]
     },
     "execution_count": 28,
     "metadata": {},
     "output_type": "execute_result"
    }
   ],
   "source": [
    "df_NuMu_6_8_truth['interaction_type'].value_counts()"
   ]
  },
  {
   "cell_type": "code",
   "execution_count": 29,
   "metadata": {},
   "outputs": [
    {
     "data": {
      "text/html": [
       "<div>\n",
       "<style scoped>\n",
       "    .dataframe tbody tr th:only-of-type {\n",
       "        vertical-align: middle;\n",
       "    }\n",
       "\n",
       "    .dataframe tbody tr th {\n",
       "        vertical-align: top;\n",
       "    }\n",
       "\n",
       "    .dataframe thead th {\n",
       "        text-align: right;\n",
       "    }\n",
       "</style>\n",
       "<table border=\"1\" class=\"dataframe\">\n",
       "  <thead>\n",
       "    <tr style=\"text-align: right;\">\n",
       "      <th></th>\n",
       "      <th>charge</th>\n",
       "      <th>dom_time</th>\n",
       "      <th>width</th>\n",
       "      <th>dom_x</th>\n",
       "      <th>dom_y</th>\n",
       "      <th>dom_z</th>\n",
       "      <th>pmt_area</th>\n",
       "      <th>rde</th>\n",
       "      <th>is_bright_dom</th>\n",
       "      <th>is_bad_dom</th>\n",
       "      <th>is_saturated_dom</th>\n",
       "      <th>is_errata_dom</th>\n",
       "      <th>event_time</th>\n",
       "      <th>hlc</th>\n",
       "      <th>awtd</th>\n",
       "      <th>string</th>\n",
       "      <th>pmt_number</th>\n",
       "      <th>dom_number</th>\n",
       "      <th>dom_type</th>\n",
       "      <th>event_no</th>\n",
       "    </tr>\n",
       "  </thead>\n",
       "  <tbody>\n",
       "  </tbody>\n",
       "</table>\n",
       "</div>"
      ],
      "text/plain": [
       "Empty DataFrame\n",
       "Columns: [charge, dom_time, width, dom_x, dom_y, dom_z, pmt_area, rde, is_bright_dom, is_bad_dom, is_saturated_dom, is_errata_dom, event_time, hlc, awtd, string, pmt_number, dom_number, dom_type, event_no]\n",
       "Index: []"
      ]
     },
     "execution_count": 29,
     "metadata": {},
     "output_type": "execute_result"
    }
   ],
   "source": [
    "df_NuMu_6_8[df_NuMu_6_8['charge']<0]"
   ]
  },
  {
   "cell_type": "code",
   "execution_count": 30,
   "metadata": {},
   "outputs": [
    {
     "data": {
      "text/html": [
       "<div>\n",
       "<style scoped>\n",
       "    .dataframe tbody tr th:only-of-type {\n",
       "        vertical-align: middle;\n",
       "    }\n",
       "\n",
       "    .dataframe tbody tr th {\n",
       "        vertical-align: top;\n",
       "    }\n",
       "\n",
       "    .dataframe thead th {\n",
       "        text-align: right;\n",
       "    }\n",
       "</style>\n",
       "<table border=\"1\" class=\"dataframe\">\n",
       "  <thead>\n",
       "    <tr style=\"text-align: right;\">\n",
       "      <th></th>\n",
       "      <th>charge</th>\n",
       "      <th>dom_time</th>\n",
       "      <th>width</th>\n",
       "      <th>dom_x</th>\n",
       "      <th>dom_y</th>\n",
       "      <th>dom_z</th>\n",
       "      <th>pmt_area</th>\n",
       "      <th>rde</th>\n",
       "      <th>is_bright_dom</th>\n",
       "      <th>is_bad_dom</th>\n",
       "      <th>is_saturated_dom</th>\n",
       "      <th>is_errata_dom</th>\n",
       "      <th>event_time</th>\n",
       "      <th>hlc</th>\n",
       "      <th>awtd</th>\n",
       "      <th>string</th>\n",
       "      <th>pmt_number</th>\n",
       "      <th>dom_number</th>\n",
       "      <th>dom_type</th>\n",
       "      <th>event_no</th>\n",
       "    </tr>\n",
       "  </thead>\n",
       "  <tbody>\n",
       "    <tr>\n",
       "      <th>0</th>\n",
       "      <td>1.575</td>\n",
       "      <td>11353.0</td>\n",
       "      <td>8.0</td>\n",
       "      <td>-9.130000</td>\n",
       "      <td>-481.73999</td>\n",
       "      <td>-470.950012</td>\n",
       "      <td>0.0444</td>\n",
       "      <td>1.0</td>\n",
       "      <td>-1.0</td>\n",
       "      <td>-1.0</td>\n",
       "      <td>-1.0</td>\n",
       "      <td>-1.0</td>\n",
       "      <td>56783.915364</td>\n",
       "      <td>0.0</td>\n",
       "      <td>0.0</td>\n",
       "      <td>3.0</td>\n",
       "      <td>0.0</td>\n",
       "      <td>58.0</td>\n",
       "      <td>20.0</td>\n",
       "      <td>0</td>\n",
       "    </tr>\n",
       "    <tr>\n",
       "      <th>1</th>\n",
       "      <td>0.325</td>\n",
       "      <td>10289.0</td>\n",
       "      <td>1.0</td>\n",
       "      <td>114.389999</td>\n",
       "      <td>-461.98999</td>\n",
       "      <td>-250.250000</td>\n",
       "      <td>0.0444</td>\n",
       "      <td>1.0</td>\n",
       "      <td>-1.0</td>\n",
       "      <td>-1.0</td>\n",
       "      <td>-1.0</td>\n",
       "      <td>-1.0</td>\n",
       "      <td>56783.915364</td>\n",
       "      <td>1.0</td>\n",
       "      <td>1.0</td>\n",
       "      <td>4.0</td>\n",
       "      <td>0.0</td>\n",
       "      <td>45.0</td>\n",
       "      <td>20.0</td>\n",
       "      <td>0</td>\n",
       "    </tr>\n",
       "    <tr>\n",
       "      <th>2</th>\n",
       "      <td>0.625</td>\n",
       "      <td>10892.0</td>\n",
       "      <td>1.0</td>\n",
       "      <td>114.389999</td>\n",
       "      <td>-461.98999</td>\n",
       "      <td>-284.290009</td>\n",
       "      <td>0.0444</td>\n",
       "      <td>1.0</td>\n",
       "      <td>-1.0</td>\n",
       "      <td>-1.0</td>\n",
       "      <td>-1.0</td>\n",
       "      <td>-1.0</td>\n",
       "      <td>56783.915364</td>\n",
       "      <td>1.0</td>\n",
       "      <td>1.0</td>\n",
       "      <td>4.0</td>\n",
       "      <td>0.0</td>\n",
       "      <td>47.0</td>\n",
       "      <td>20.0</td>\n",
       "      <td>0</td>\n",
       "    </tr>\n",
       "    <tr>\n",
       "      <th>3</th>\n",
       "      <td>0.875</td>\n",
       "      <td>10133.0</td>\n",
       "      <td>1.0</td>\n",
       "      <td>114.389999</td>\n",
       "      <td>-461.98999</td>\n",
       "      <td>-352.369995</td>\n",
       "      <td>0.0444</td>\n",
       "      <td>1.0</td>\n",
       "      <td>-1.0</td>\n",
       "      <td>-1.0</td>\n",
       "      <td>-1.0</td>\n",
       "      <td>-1.0</td>\n",
       "      <td>56783.915364</td>\n",
       "      <td>1.0</td>\n",
       "      <td>1.0</td>\n",
       "      <td>4.0</td>\n",
       "      <td>0.0</td>\n",
       "      <td>51.0</td>\n",
       "      <td>20.0</td>\n",
       "      <td>0</td>\n",
       "    </tr>\n",
       "    <tr>\n",
       "      <th>4</th>\n",
       "      <td>1.125</td>\n",
       "      <td>10184.0</td>\n",
       "      <td>1.0</td>\n",
       "      <td>114.389999</td>\n",
       "      <td>-461.98999</td>\n",
       "      <td>-352.369995</td>\n",
       "      <td>0.0444</td>\n",
       "      <td>1.0</td>\n",
       "      <td>-1.0</td>\n",
       "      <td>-1.0</td>\n",
       "      <td>-1.0</td>\n",
       "      <td>-1.0</td>\n",
       "      <td>56783.915364</td>\n",
       "      <td>1.0</td>\n",
       "      <td>1.0</td>\n",
       "      <td>4.0</td>\n",
       "      <td>0.0</td>\n",
       "      <td>51.0</td>\n",
       "      <td>20.0</td>\n",
       "      <td>0</td>\n",
       "    </tr>\n",
       "    <tr>\n",
       "      <th>5</th>\n",
       "      <td>0.775</td>\n",
       "      <td>10217.0</td>\n",
       "      <td>1.0</td>\n",
       "      <td>114.389999</td>\n",
       "      <td>-461.98999</td>\n",
       "      <td>-386.410004</td>\n",
       "      <td>0.0444</td>\n",
       "      <td>1.0</td>\n",
       "      <td>-1.0</td>\n",
       "      <td>-1.0</td>\n",
       "      <td>-1.0</td>\n",
       "      <td>-1.0</td>\n",
       "      <td>56783.915364</td>\n",
       "      <td>1.0</td>\n",
       "      <td>1.0</td>\n",
       "      <td>4.0</td>\n",
       "      <td>0.0</td>\n",
       "      <td>53.0</td>\n",
       "      <td>20.0</td>\n",
       "      <td>0</td>\n",
       "    </tr>\n",
       "    <tr>\n",
       "      <th>6</th>\n",
       "      <td>0.775</td>\n",
       "      <td>10656.0</td>\n",
       "      <td>1.0</td>\n",
       "      <td>114.389999</td>\n",
       "      <td>-461.98999</td>\n",
       "      <td>-420.459991</td>\n",
       "      <td>0.0444</td>\n",
       "      <td>1.0</td>\n",
       "      <td>-1.0</td>\n",
       "      <td>-1.0</td>\n",
       "      <td>-1.0</td>\n",
       "      <td>-1.0</td>\n",
       "      <td>56783.915364</td>\n",
       "      <td>1.0</td>\n",
       "      <td>1.0</td>\n",
       "      <td>4.0</td>\n",
       "      <td>0.0</td>\n",
       "      <td>55.0</td>\n",
       "      <td>20.0</td>\n",
       "      <td>0</td>\n",
       "    </tr>\n",
       "    <tr>\n",
       "      <th>7</th>\n",
       "      <td>1.025</td>\n",
       "      <td>10786.0</td>\n",
       "      <td>1.0</td>\n",
       "      <td>114.389999</td>\n",
       "      <td>-461.98999</td>\n",
       "      <td>-454.500000</td>\n",
       "      <td>0.0444</td>\n",
       "      <td>1.0</td>\n",
       "      <td>-1.0</td>\n",
       "      <td>-1.0</td>\n",
       "      <td>-1.0</td>\n",
       "      <td>-1.0</td>\n",
       "      <td>56783.915364</td>\n",
       "      <td>1.0</td>\n",
       "      <td>1.0</td>\n",
       "      <td>4.0</td>\n",
       "      <td>0.0</td>\n",
       "      <td>57.0</td>\n",
       "      <td>20.0</td>\n",
       "      <td>0</td>\n",
       "    </tr>\n",
       "    <tr>\n",
       "      <th>8</th>\n",
       "      <td>1.625</td>\n",
       "      <td>10262.0</td>\n",
       "      <td>1.0</td>\n",
       "      <td>114.389999</td>\n",
       "      <td>-461.98999</td>\n",
       "      <td>-471.519989</td>\n",
       "      <td>0.0444</td>\n",
       "      <td>1.0</td>\n",
       "      <td>-1.0</td>\n",
       "      <td>-1.0</td>\n",
       "      <td>-1.0</td>\n",
       "      <td>-1.0</td>\n",
       "      <td>56783.915364</td>\n",
       "      <td>1.0</td>\n",
       "      <td>1.0</td>\n",
       "      <td>4.0</td>\n",
       "      <td>0.0</td>\n",
       "      <td>58.0</td>\n",
       "      <td>20.0</td>\n",
       "      <td>0</td>\n",
       "    </tr>\n",
       "    <tr>\n",
       "      <th>9</th>\n",
       "      <td>0.725</td>\n",
       "      <td>11733.0</td>\n",
       "      <td>8.0</td>\n",
       "      <td>114.389999</td>\n",
       "      <td>-461.98999</td>\n",
       "      <td>-471.519989</td>\n",
       "      <td>0.0444</td>\n",
       "      <td>1.0</td>\n",
       "      <td>-1.0</td>\n",
       "      <td>-1.0</td>\n",
       "      <td>-1.0</td>\n",
       "      <td>-1.0</td>\n",
       "      <td>56783.915364</td>\n",
       "      <td>1.0</td>\n",
       "      <td>0.0</td>\n",
       "      <td>4.0</td>\n",
       "      <td>0.0</td>\n",
       "      <td>58.0</td>\n",
       "      <td>20.0</td>\n",
       "      <td>0</td>\n",
       "    </tr>\n",
       "  </tbody>\n",
       "</table>\n",
       "</div>"
      ],
      "text/plain": [
       "   charge  dom_time  width       dom_x      dom_y       dom_z  pmt_area  rde  \\\n",
       "0   1.575   11353.0    8.0   -9.130000 -481.73999 -470.950012    0.0444  1.0   \n",
       "1   0.325   10289.0    1.0  114.389999 -461.98999 -250.250000    0.0444  1.0   \n",
       "2   0.625   10892.0    1.0  114.389999 -461.98999 -284.290009    0.0444  1.0   \n",
       "3   0.875   10133.0    1.0  114.389999 -461.98999 -352.369995    0.0444  1.0   \n",
       "4   1.125   10184.0    1.0  114.389999 -461.98999 -352.369995    0.0444  1.0   \n",
       "5   0.775   10217.0    1.0  114.389999 -461.98999 -386.410004    0.0444  1.0   \n",
       "6   0.775   10656.0    1.0  114.389999 -461.98999 -420.459991    0.0444  1.0   \n",
       "7   1.025   10786.0    1.0  114.389999 -461.98999 -454.500000    0.0444  1.0   \n",
       "8   1.625   10262.0    1.0  114.389999 -461.98999 -471.519989    0.0444  1.0   \n",
       "9   0.725   11733.0    8.0  114.389999 -461.98999 -471.519989    0.0444  1.0   \n",
       "\n",
       "   is_bright_dom  is_bad_dom  is_saturated_dom  is_errata_dom    event_time  \\\n",
       "0           -1.0        -1.0              -1.0           -1.0  56783.915364   \n",
       "1           -1.0        -1.0              -1.0           -1.0  56783.915364   \n",
       "2           -1.0        -1.0              -1.0           -1.0  56783.915364   \n",
       "3           -1.0        -1.0              -1.0           -1.0  56783.915364   \n",
       "4           -1.0        -1.0              -1.0           -1.0  56783.915364   \n",
       "5           -1.0        -1.0              -1.0           -1.0  56783.915364   \n",
       "6           -1.0        -1.0              -1.0           -1.0  56783.915364   \n",
       "7           -1.0        -1.0              -1.0           -1.0  56783.915364   \n",
       "8           -1.0        -1.0              -1.0           -1.0  56783.915364   \n",
       "9           -1.0        -1.0              -1.0           -1.0  56783.915364   \n",
       "\n",
       "   hlc  awtd  string  pmt_number  dom_number  dom_type  event_no  \n",
       "0  0.0   0.0     3.0         0.0        58.0      20.0         0  \n",
       "1  1.0   1.0     4.0         0.0        45.0      20.0         0  \n",
       "2  1.0   1.0     4.0         0.0        47.0      20.0         0  \n",
       "3  1.0   1.0     4.0         0.0        51.0      20.0         0  \n",
       "4  1.0   1.0     4.0         0.0        51.0      20.0         0  \n",
       "5  1.0   1.0     4.0         0.0        53.0      20.0         0  \n",
       "6  1.0   1.0     4.0         0.0        55.0      20.0         0  \n",
       "7  1.0   1.0     4.0         0.0        57.0      20.0         0  \n",
       "8  1.0   1.0     4.0         0.0        58.0      20.0         0  \n",
       "9  1.0   0.0     4.0         0.0        58.0      20.0         0  "
      ]
     },
     "execution_count": 30,
     "metadata": {},
     "output_type": "execute_result"
    }
   ],
   "source": [
    "df_corsika_5_1.head(10)"
   ]
  },
  {
   "cell_type": "code",
   "execution_count": 15,
   "metadata": {},
   "outputs": [
    {
     "data": {
      "text/html": [
       "<div>\n",
       "<style scoped>\n",
       "    .dataframe tbody tr th:only-of-type {\n",
       "        vertical-align: middle;\n",
       "    }\n",
       "\n",
       "    .dataframe tbody tr th {\n",
       "        vertical-align: top;\n",
       "    }\n",
       "\n",
       "    .dataframe thead th {\n",
       "        text-align: right;\n",
       "    }\n",
       "</style>\n",
       "<table border=\"1\" class=\"dataframe\">\n",
       "  <thead>\n",
       "    <tr style=\"text-align: right;\">\n",
       "      <th></th>\n",
       "      <th>charge</th>\n",
       "      <th>dom_time</th>\n",
       "      <th>width</th>\n",
       "      <th>dom_x</th>\n",
       "      <th>dom_y</th>\n",
       "      <th>dom_z</th>\n",
       "      <th>pmt_area</th>\n",
       "      <th>rde</th>\n",
       "      <th>is_bright_dom</th>\n",
       "      <th>is_bad_dom</th>\n",
       "      <th>is_saturated_dom</th>\n",
       "      <th>is_errata_dom</th>\n",
       "      <th>event_time</th>\n",
       "      <th>hlc</th>\n",
       "      <th>awtd</th>\n",
       "      <th>string</th>\n",
       "      <th>pmt_number</th>\n",
       "      <th>dom_number</th>\n",
       "      <th>dom_type</th>\n",
       "      <th>event_no</th>\n",
       "    </tr>\n",
       "  </thead>\n",
       "  <tbody>\n",
       "    <tr>\n",
       "      <th>0</th>\n",
       "      <td>0.325</td>\n",
       "      <td>13096.0</td>\n",
       "      <td>1.0</td>\n",
       "      <td>237.779999</td>\n",
       "      <td>-442.420013</td>\n",
       "      <td>41.900002</td>\n",
       "      <td>0.0444</td>\n",
       "      <td>1.0</td>\n",
       "      <td>-1.0</td>\n",
       "      <td>-1.0</td>\n",
       "      <td>-1.0</td>\n",
       "      <td>-1.0</td>\n",
       "      <td>56783.915364</td>\n",
       "      <td>1.0</td>\n",
       "      <td>1.0</td>\n",
       "      <td>5.0</td>\n",
       "      <td>0.0</td>\n",
       "      <td>28.0</td>\n",
       "      <td>20.0</td>\n",
       "      <td>0</td>\n",
       "    </tr>\n",
       "    <tr>\n",
       "      <th>1</th>\n",
       "      <td>0.125</td>\n",
       "      <td>13308.0</td>\n",
       "      <td>1.0</td>\n",
       "      <td>237.779999</td>\n",
       "      <td>-442.420013</td>\n",
       "      <td>41.900002</td>\n",
       "      <td>0.0444</td>\n",
       "      <td>1.0</td>\n",
       "      <td>-1.0</td>\n",
       "      <td>-1.0</td>\n",
       "      <td>-1.0</td>\n",
       "      <td>-1.0</td>\n",
       "      <td>56783.915364</td>\n",
       "      <td>1.0</td>\n",
       "      <td>1.0</td>\n",
       "      <td>5.0</td>\n",
       "      <td>0.0</td>\n",
       "      <td>28.0</td>\n",
       "      <td>20.0</td>\n",
       "      <td>0</td>\n",
       "    </tr>\n",
       "    <tr>\n",
       "      <th>2</th>\n",
       "      <td>0.425</td>\n",
       "      <td>13055.0</td>\n",
       "      <td>1.0</td>\n",
       "      <td>237.779999</td>\n",
       "      <td>-442.420013</td>\n",
       "      <td>24.879999</td>\n",
       "      <td>0.0444</td>\n",
       "      <td>1.0</td>\n",
       "      <td>-1.0</td>\n",
       "      <td>-1.0</td>\n",
       "      <td>-1.0</td>\n",
       "      <td>-1.0</td>\n",
       "      <td>56783.915364</td>\n",
       "      <td>1.0</td>\n",
       "      <td>1.0</td>\n",
       "      <td>5.0</td>\n",
       "      <td>0.0</td>\n",
       "      <td>29.0</td>\n",
       "      <td>20.0</td>\n",
       "      <td>0</td>\n",
       "    </tr>\n",
       "    <tr>\n",
       "      <th>3</th>\n",
       "      <td>0.675</td>\n",
       "      <td>13840.0</td>\n",
       "      <td>1.0</td>\n",
       "      <td>237.779999</td>\n",
       "      <td>-442.420013</td>\n",
       "      <td>7.860000</td>\n",
       "      <td>0.0444</td>\n",
       "      <td>1.0</td>\n",
       "      <td>-1.0</td>\n",
       "      <td>-1.0</td>\n",
       "      <td>-1.0</td>\n",
       "      <td>-1.0</td>\n",
       "      <td>56783.915364</td>\n",
       "      <td>1.0</td>\n",
       "      <td>1.0</td>\n",
       "      <td>5.0</td>\n",
       "      <td>0.0</td>\n",
       "      <td>30.0</td>\n",
       "      <td>20.0</td>\n",
       "      <td>0</td>\n",
       "    </tr>\n",
       "    <tr>\n",
       "      <th>4</th>\n",
       "      <td>1.175</td>\n",
       "      <td>12551.0</td>\n",
       "      <td>1.0</td>\n",
       "      <td>361.000000</td>\n",
       "      <td>-422.829987</td>\n",
       "      <td>91.019997</td>\n",
       "      <td>0.0444</td>\n",
       "      <td>1.0</td>\n",
       "      <td>-1.0</td>\n",
       "      <td>-1.0</td>\n",
       "      <td>-1.0</td>\n",
       "      <td>-1.0</td>\n",
       "      <td>56783.915364</td>\n",
       "      <td>1.0</td>\n",
       "      <td>1.0</td>\n",
       "      <td>6.0</td>\n",
       "      <td>0.0</td>\n",
       "      <td>25.0</td>\n",
       "      <td>20.0</td>\n",
       "      <td>0</td>\n",
       "    </tr>\n",
       "    <tr>\n",
       "      <th>5</th>\n",
       "      <td>0.975</td>\n",
       "      <td>12521.0</td>\n",
       "      <td>1.0</td>\n",
       "      <td>361.000000</td>\n",
       "      <td>-422.829987</td>\n",
       "      <td>74.000000</td>\n",
       "      <td>0.0444</td>\n",
       "      <td>1.0</td>\n",
       "      <td>-1.0</td>\n",
       "      <td>-1.0</td>\n",
       "      <td>-1.0</td>\n",
       "      <td>-1.0</td>\n",
       "      <td>56783.915364</td>\n",
       "      <td>1.0</td>\n",
       "      <td>1.0</td>\n",
       "      <td>6.0</td>\n",
       "      <td>0.0</td>\n",
       "      <td>26.0</td>\n",
       "      <td>20.0</td>\n",
       "      <td>0</td>\n",
       "    </tr>\n",
       "    <tr>\n",
       "      <th>6</th>\n",
       "      <td>0.775</td>\n",
       "      <td>13691.0</td>\n",
       "      <td>8.0</td>\n",
       "      <td>361.000000</td>\n",
       "      <td>-422.829987</td>\n",
       "      <td>74.000000</td>\n",
       "      <td>0.0444</td>\n",
       "      <td>1.0</td>\n",
       "      <td>-1.0</td>\n",
       "      <td>-1.0</td>\n",
       "      <td>-1.0</td>\n",
       "      <td>-1.0</td>\n",
       "      <td>56783.915364</td>\n",
       "      <td>1.0</td>\n",
       "      <td>0.0</td>\n",
       "      <td>6.0</td>\n",
       "      <td>0.0</td>\n",
       "      <td>26.0</td>\n",
       "      <td>20.0</td>\n",
       "      <td>0</td>\n",
       "    </tr>\n",
       "    <tr>\n",
       "      <th>7</th>\n",
       "      <td>0.975</td>\n",
       "      <td>13997.0</td>\n",
       "      <td>8.0</td>\n",
       "      <td>361.000000</td>\n",
       "      <td>-422.829987</td>\n",
       "      <td>74.000000</td>\n",
       "      <td>0.0444</td>\n",
       "      <td>1.0</td>\n",
       "      <td>-1.0</td>\n",
       "      <td>-1.0</td>\n",
       "      <td>-1.0</td>\n",
       "      <td>-1.0</td>\n",
       "      <td>56783.915364</td>\n",
       "      <td>1.0</td>\n",
       "      <td>0.0</td>\n",
       "      <td>6.0</td>\n",
       "      <td>0.0</td>\n",
       "      <td>26.0</td>\n",
       "      <td>20.0</td>\n",
       "      <td>0</td>\n",
       "    </tr>\n",
       "    <tr>\n",
       "      <th>8</th>\n",
       "      <td>1.325</td>\n",
       "      <td>12420.0</td>\n",
       "      <td>1.0</td>\n",
       "      <td>361.000000</td>\n",
       "      <td>-422.829987</td>\n",
       "      <td>56.980000</td>\n",
       "      <td>0.0444</td>\n",
       "      <td>1.0</td>\n",
       "      <td>-1.0</td>\n",
       "      <td>-1.0</td>\n",
       "      <td>-1.0</td>\n",
       "      <td>-1.0</td>\n",
       "      <td>56783.915364</td>\n",
       "      <td>1.0</td>\n",
       "      <td>1.0</td>\n",
       "      <td>6.0</td>\n",
       "      <td>0.0</td>\n",
       "      <td>27.0</td>\n",
       "      <td>20.0</td>\n",
       "      <td>0</td>\n",
       "    </tr>\n",
       "    <tr>\n",
       "      <th>9</th>\n",
       "      <td>0.775</td>\n",
       "      <td>12440.0</td>\n",
       "      <td>1.0</td>\n",
       "      <td>361.000000</td>\n",
       "      <td>-422.829987</td>\n",
       "      <td>56.980000</td>\n",
       "      <td>0.0444</td>\n",
       "      <td>1.0</td>\n",
       "      <td>-1.0</td>\n",
       "      <td>-1.0</td>\n",
       "      <td>-1.0</td>\n",
       "      <td>-1.0</td>\n",
       "      <td>56783.915364</td>\n",
       "      <td>1.0</td>\n",
       "      <td>1.0</td>\n",
       "      <td>6.0</td>\n",
       "      <td>0.0</td>\n",
       "      <td>27.0</td>\n",
       "      <td>20.0</td>\n",
       "      <td>0</td>\n",
       "    </tr>\n",
       "  </tbody>\n",
       "</table>\n",
       "</div>"
      ],
      "text/plain": [
       "   charge  dom_time  width       dom_x       dom_y      dom_z  pmt_area  rde  \\\n",
       "0   0.325   13096.0    1.0  237.779999 -442.420013  41.900002    0.0444  1.0   \n",
       "1   0.125   13308.0    1.0  237.779999 -442.420013  41.900002    0.0444  1.0   \n",
       "2   0.425   13055.0    1.0  237.779999 -442.420013  24.879999    0.0444  1.0   \n",
       "3   0.675   13840.0    1.0  237.779999 -442.420013   7.860000    0.0444  1.0   \n",
       "4   1.175   12551.0    1.0  361.000000 -422.829987  91.019997    0.0444  1.0   \n",
       "5   0.975   12521.0    1.0  361.000000 -422.829987  74.000000    0.0444  1.0   \n",
       "6   0.775   13691.0    8.0  361.000000 -422.829987  74.000000    0.0444  1.0   \n",
       "7   0.975   13997.0    8.0  361.000000 -422.829987  74.000000    0.0444  1.0   \n",
       "8   1.325   12420.0    1.0  361.000000 -422.829987  56.980000    0.0444  1.0   \n",
       "9   0.775   12440.0    1.0  361.000000 -422.829987  56.980000    0.0444  1.0   \n",
       "\n",
       "   is_bright_dom  is_bad_dom  is_saturated_dom  is_errata_dom    event_time  \\\n",
       "0           -1.0        -1.0              -1.0           -1.0  56783.915364   \n",
       "1           -1.0        -1.0              -1.0           -1.0  56783.915364   \n",
       "2           -1.0        -1.0              -1.0           -1.0  56783.915364   \n",
       "3           -1.0        -1.0              -1.0           -1.0  56783.915364   \n",
       "4           -1.0        -1.0              -1.0           -1.0  56783.915364   \n",
       "5           -1.0        -1.0              -1.0           -1.0  56783.915364   \n",
       "6           -1.0        -1.0              -1.0           -1.0  56783.915364   \n",
       "7           -1.0        -1.0              -1.0           -1.0  56783.915364   \n",
       "8           -1.0        -1.0              -1.0           -1.0  56783.915364   \n",
       "9           -1.0        -1.0              -1.0           -1.0  56783.915364   \n",
       "\n",
       "   hlc  awtd  string  pmt_number  dom_number  dom_type  event_no  \n",
       "0  1.0   1.0     5.0         0.0        28.0      20.0         0  \n",
       "1  1.0   1.0     5.0         0.0        28.0      20.0         0  \n",
       "2  1.0   1.0     5.0         0.0        29.0      20.0         0  \n",
       "3  1.0   1.0     5.0         0.0        30.0      20.0         0  \n",
       "4  1.0   1.0     6.0         0.0        25.0      20.0         0  \n",
       "5  1.0   1.0     6.0         0.0        26.0      20.0         0  \n",
       "6  1.0   0.0     6.0         0.0        26.0      20.0         0  \n",
       "7  1.0   0.0     6.0         0.0        26.0      20.0         0  \n",
       "8  1.0   1.0     6.0         0.0        27.0      20.0         0  \n",
       "9  1.0   1.0     6.0         0.0        27.0      20.0         0  "
      ]
     },
     "execution_count": 15,
     "metadata": {},
     "output_type": "execute_result"
    }
   ],
   "source": [
    "df_corsika_3_1.head(10)"
   ]
  },
  {
   "cell_type": "code",
   "execution_count": 16,
   "metadata": {},
   "outputs": [
    {
     "data": {
      "text/html": [
       "<div>\n",
       "<style scoped>\n",
       "    .dataframe tbody tr th:only-of-type {\n",
       "        vertical-align: middle;\n",
       "    }\n",
       "\n",
       "    .dataframe tbody tr th {\n",
       "        vertical-align: top;\n",
       "    }\n",
       "\n",
       "    .dataframe thead th {\n",
       "        text-align: right;\n",
       "    }\n",
       "</style>\n",
       "<table border=\"1\" class=\"dataframe\">\n",
       "  <thead>\n",
       "    <tr style=\"text-align: right;\">\n",
       "      <th></th>\n",
       "      <th>charge</th>\n",
       "      <th>dom_time</th>\n",
       "      <th>width</th>\n",
       "      <th>dom_x</th>\n",
       "      <th>dom_y</th>\n",
       "      <th>dom_z</th>\n",
       "      <th>pmt_area</th>\n",
       "      <th>rde</th>\n",
       "      <th>is_bright_dom</th>\n",
       "      <th>is_bad_dom</th>\n",
       "      <th>is_saturated_dom</th>\n",
       "      <th>is_errata_dom</th>\n",
       "      <th>event_time</th>\n",
       "      <th>hlc</th>\n",
       "      <th>awtd</th>\n",
       "      <th>string</th>\n",
       "      <th>pmt_number</th>\n",
       "      <th>dom_number</th>\n",
       "      <th>dom_type</th>\n",
       "      <th>event_no</th>\n",
       "    </tr>\n",
       "  </thead>\n",
       "  <tbody>\n",
       "    <tr>\n",
       "      <th>0</th>\n",
       "      <td>1.175</td>\n",
       "      <td>10361.0</td>\n",
       "      <td>1.0</td>\n",
       "      <td>114.389999</td>\n",
       "      <td>-461.98999</td>\n",
       "      <td>498.660004</td>\n",
       "      <td>0.0444</td>\n",
       "      <td>1.0</td>\n",
       "      <td>-1.0</td>\n",
       "      <td>-1.0</td>\n",
       "      <td>-1.0</td>\n",
       "      <td>-1.0</td>\n",
       "      <td>56783.915364</td>\n",
       "      <td>1.0</td>\n",
       "      <td>1.0</td>\n",
       "      <td>4.0</td>\n",
       "      <td>0.0</td>\n",
       "      <td>1.0</td>\n",
       "      <td>20.0</td>\n",
       "      <td>1396273</td>\n",
       "    </tr>\n",
       "    <tr>\n",
       "      <th>1</th>\n",
       "      <td>0.525</td>\n",
       "      <td>11370.0</td>\n",
       "      <td>8.0</td>\n",
       "      <td>114.389999</td>\n",
       "      <td>-461.98999</td>\n",
       "      <td>498.660004</td>\n",
       "      <td>0.0444</td>\n",
       "      <td>1.0</td>\n",
       "      <td>-1.0</td>\n",
       "      <td>-1.0</td>\n",
       "      <td>-1.0</td>\n",
       "      <td>-1.0</td>\n",
       "      <td>56783.915364</td>\n",
       "      <td>1.0</td>\n",
       "      <td>0.0</td>\n",
       "      <td>4.0</td>\n",
       "      <td>0.0</td>\n",
       "      <td>1.0</td>\n",
       "      <td>20.0</td>\n",
       "      <td>1396273</td>\n",
       "    </tr>\n",
       "    <tr>\n",
       "      <th>2</th>\n",
       "      <td>0.575</td>\n",
       "      <td>9871.0</td>\n",
       "      <td>1.0</td>\n",
       "      <td>114.389999</td>\n",
       "      <td>-461.98999</td>\n",
       "      <td>481.640015</td>\n",
       "      <td>0.0444</td>\n",
       "      <td>1.0</td>\n",
       "      <td>-1.0</td>\n",
       "      <td>-1.0</td>\n",
       "      <td>-1.0</td>\n",
       "      <td>-1.0</td>\n",
       "      <td>56783.915364</td>\n",
       "      <td>1.0</td>\n",
       "      <td>1.0</td>\n",
       "      <td>4.0</td>\n",
       "      <td>0.0</td>\n",
       "      <td>2.0</td>\n",
       "      <td>20.0</td>\n",
       "      <td>1396273</td>\n",
       "    </tr>\n",
       "    <tr>\n",
       "      <th>3</th>\n",
       "      <td>3.275</td>\n",
       "      <td>9880.0</td>\n",
       "      <td>1.0</td>\n",
       "      <td>114.389999</td>\n",
       "      <td>-461.98999</td>\n",
       "      <td>481.640015</td>\n",
       "      <td>0.0444</td>\n",
       "      <td>1.0</td>\n",
       "      <td>-1.0</td>\n",
       "      <td>-1.0</td>\n",
       "      <td>-1.0</td>\n",
       "      <td>-1.0</td>\n",
       "      <td>56783.915364</td>\n",
       "      <td>1.0</td>\n",
       "      <td>1.0</td>\n",
       "      <td>4.0</td>\n",
       "      <td>0.0</td>\n",
       "      <td>2.0</td>\n",
       "      <td>20.0</td>\n",
       "      <td>1396273</td>\n",
       "    </tr>\n",
       "    <tr>\n",
       "      <th>4</th>\n",
       "      <td>1.875</td>\n",
       "      <td>9895.0</td>\n",
       "      <td>1.0</td>\n",
       "      <td>114.389999</td>\n",
       "      <td>-461.98999</td>\n",
       "      <td>481.640015</td>\n",
       "      <td>0.0444</td>\n",
       "      <td>1.0</td>\n",
       "      <td>-1.0</td>\n",
       "      <td>-1.0</td>\n",
       "      <td>-1.0</td>\n",
       "      <td>-1.0</td>\n",
       "      <td>56783.915364</td>\n",
       "      <td>1.0</td>\n",
       "      <td>1.0</td>\n",
       "      <td>4.0</td>\n",
       "      <td>0.0</td>\n",
       "      <td>2.0</td>\n",
       "      <td>20.0</td>\n",
       "      <td>1396273</td>\n",
       "    </tr>\n",
       "    <tr>\n",
       "      <th>5</th>\n",
       "      <td>0.775</td>\n",
       "      <td>9955.0</td>\n",
       "      <td>1.0</td>\n",
       "      <td>114.389999</td>\n",
       "      <td>-461.98999</td>\n",
       "      <td>481.640015</td>\n",
       "      <td>0.0444</td>\n",
       "      <td>1.0</td>\n",
       "      <td>-1.0</td>\n",
       "      <td>-1.0</td>\n",
       "      <td>-1.0</td>\n",
       "      <td>-1.0</td>\n",
       "      <td>56783.915364</td>\n",
       "      <td>1.0</td>\n",
       "      <td>1.0</td>\n",
       "      <td>4.0</td>\n",
       "      <td>0.0</td>\n",
       "      <td>2.0</td>\n",
       "      <td>20.0</td>\n",
       "      <td>1396273</td>\n",
       "    </tr>\n",
       "    <tr>\n",
       "      <th>6</th>\n",
       "      <td>0.825</td>\n",
       "      <td>10114.0</td>\n",
       "      <td>1.0</td>\n",
       "      <td>114.389999</td>\n",
       "      <td>-461.98999</td>\n",
       "      <td>481.640015</td>\n",
       "      <td>0.0444</td>\n",
       "      <td>1.0</td>\n",
       "      <td>-1.0</td>\n",
       "      <td>-1.0</td>\n",
       "      <td>-1.0</td>\n",
       "      <td>-1.0</td>\n",
       "      <td>56783.915364</td>\n",
       "      <td>1.0</td>\n",
       "      <td>1.0</td>\n",
       "      <td>4.0</td>\n",
       "      <td>0.0</td>\n",
       "      <td>2.0</td>\n",
       "      <td>20.0</td>\n",
       "      <td>1396273</td>\n",
       "    </tr>\n",
       "    <tr>\n",
       "      <th>7</th>\n",
       "      <td>0.775</td>\n",
       "      <td>10143.0</td>\n",
       "      <td>1.0</td>\n",
       "      <td>114.389999</td>\n",
       "      <td>-461.98999</td>\n",
       "      <td>481.640015</td>\n",
       "      <td>0.0444</td>\n",
       "      <td>1.0</td>\n",
       "      <td>-1.0</td>\n",
       "      <td>-1.0</td>\n",
       "      <td>-1.0</td>\n",
       "      <td>-1.0</td>\n",
       "      <td>56783.915364</td>\n",
       "      <td>1.0</td>\n",
       "      <td>1.0</td>\n",
       "      <td>4.0</td>\n",
       "      <td>0.0</td>\n",
       "      <td>2.0</td>\n",
       "      <td>20.0</td>\n",
       "      <td>1396273</td>\n",
       "    </tr>\n",
       "    <tr>\n",
       "      <th>8</th>\n",
       "      <td>1.025</td>\n",
       "      <td>10760.0</td>\n",
       "      <td>1.0</td>\n",
       "      <td>114.389999</td>\n",
       "      <td>-461.98999</td>\n",
       "      <td>464.619995</td>\n",
       "      <td>0.0444</td>\n",
       "      <td>1.0</td>\n",
       "      <td>-1.0</td>\n",
       "      <td>-1.0</td>\n",
       "      <td>-1.0</td>\n",
       "      <td>-1.0</td>\n",
       "      <td>56783.915364</td>\n",
       "      <td>1.0</td>\n",
       "      <td>1.0</td>\n",
       "      <td>4.0</td>\n",
       "      <td>0.0</td>\n",
       "      <td>3.0</td>\n",
       "      <td>20.0</td>\n",
       "      <td>1396273</td>\n",
       "    </tr>\n",
       "    <tr>\n",
       "      <th>9</th>\n",
       "      <td>1.175</td>\n",
       "      <td>10142.0</td>\n",
       "      <td>1.0</td>\n",
       "      <td>114.389999</td>\n",
       "      <td>-461.98999</td>\n",
       "      <td>447.600006</td>\n",
       "      <td>0.0444</td>\n",
       "      <td>1.0</td>\n",
       "      <td>-1.0</td>\n",
       "      <td>-1.0</td>\n",
       "      <td>-1.0</td>\n",
       "      <td>-1.0</td>\n",
       "      <td>56783.915364</td>\n",
       "      <td>1.0</td>\n",
       "      <td>1.0</td>\n",
       "      <td>4.0</td>\n",
       "      <td>0.0</td>\n",
       "      <td>4.0</td>\n",
       "      <td>20.0</td>\n",
       "      <td>1396273</td>\n",
       "    </tr>\n",
       "  </tbody>\n",
       "</table>\n",
       "</div>"
      ],
      "text/plain": [
       "   charge  dom_time  width       dom_x      dom_y       dom_z  pmt_area  rde  \\\n",
       "0   1.175   10361.0    1.0  114.389999 -461.98999  498.660004    0.0444  1.0   \n",
       "1   0.525   11370.0    8.0  114.389999 -461.98999  498.660004    0.0444  1.0   \n",
       "2   0.575    9871.0    1.0  114.389999 -461.98999  481.640015    0.0444  1.0   \n",
       "3   3.275    9880.0    1.0  114.389999 -461.98999  481.640015    0.0444  1.0   \n",
       "4   1.875    9895.0    1.0  114.389999 -461.98999  481.640015    0.0444  1.0   \n",
       "5   0.775    9955.0    1.0  114.389999 -461.98999  481.640015    0.0444  1.0   \n",
       "6   0.825   10114.0    1.0  114.389999 -461.98999  481.640015    0.0444  1.0   \n",
       "7   0.775   10143.0    1.0  114.389999 -461.98999  481.640015    0.0444  1.0   \n",
       "8   1.025   10760.0    1.0  114.389999 -461.98999  464.619995    0.0444  1.0   \n",
       "9   1.175   10142.0    1.0  114.389999 -461.98999  447.600006    0.0444  1.0   \n",
       "\n",
       "   is_bright_dom  is_bad_dom  is_saturated_dom  is_errata_dom    event_time  \\\n",
       "0           -1.0        -1.0              -1.0           -1.0  56783.915364   \n",
       "1           -1.0        -1.0              -1.0           -1.0  56783.915364   \n",
       "2           -1.0        -1.0              -1.0           -1.0  56783.915364   \n",
       "3           -1.0        -1.0              -1.0           -1.0  56783.915364   \n",
       "4           -1.0        -1.0              -1.0           -1.0  56783.915364   \n",
       "5           -1.0        -1.0              -1.0           -1.0  56783.915364   \n",
       "6           -1.0        -1.0              -1.0           -1.0  56783.915364   \n",
       "7           -1.0        -1.0              -1.0           -1.0  56783.915364   \n",
       "8           -1.0        -1.0              -1.0           -1.0  56783.915364   \n",
       "9           -1.0        -1.0              -1.0           -1.0  56783.915364   \n",
       "\n",
       "   hlc  awtd  string  pmt_number  dom_number  dom_type  event_no  \n",
       "0  1.0   1.0     4.0         0.0         1.0      20.0   1396273  \n",
       "1  1.0   0.0     4.0         0.0         1.0      20.0   1396273  \n",
       "2  1.0   1.0     4.0         0.0         2.0      20.0   1396273  \n",
       "3  1.0   1.0     4.0         0.0         2.0      20.0   1396273  \n",
       "4  1.0   1.0     4.0         0.0         2.0      20.0   1396273  \n",
       "5  1.0   1.0     4.0         0.0         2.0      20.0   1396273  \n",
       "6  1.0   1.0     4.0         0.0         2.0      20.0   1396273  \n",
       "7  1.0   1.0     4.0         0.0         2.0      20.0   1396273  \n",
       "8  1.0   1.0     4.0         0.0         3.0      20.0   1396273  \n",
       "9  1.0   1.0     4.0         0.0         4.0      20.0   1396273  "
      ]
     },
     "execution_count": 16,
     "metadata": {},
     "output_type": "execute_result"
    }
   ],
   "source": [
    "df_corsika_7_7.head(10)"
   ]
  },
  {
   "cell_type": "code",
   "execution_count": 17,
   "metadata": {},
   "outputs": [
    {
     "data": {
      "text/plain": [
       "array([2212.])"
      ]
     },
     "execution_count": 17,
     "metadata": {},
     "output_type": "execute_result"
    }
   ],
   "source": [
    "df_corsika_3_1_truth.head(10)['pid'].unique()"
   ]
  },
  {
   "cell_type": "code",
   "execution_count": 18,
   "metadata": {},
   "outputs": [
    {
     "data": {
      "text/plain": [
       "Index(['energy', 'position_x', 'position_y', 'position_z', 'azimuth', 'zenith',\n",
       "       'pid', 'event_time', 'interaction_type', 'elasticity', 'RunID',\n",
       "       'SubrunID', 'EventID', 'SubEventID', 'dbang_decay_length',\n",
       "       'track_length', 'stopped_muon', 'energy_track', 'energy_cascade',\n",
       "       'inelasticity', 'DeepCoreFilter_13', 'CascadeFilter_13',\n",
       "       'MuonFilter_13', 'OnlineL2Filter_17', 'L3_oscNext_bool',\n",
       "       'L4_oscNext_bool', 'L5_oscNext_bool', 'L6_oscNext_bool',\n",
       "       'L7_oscNext_bool', 'Homogenized_QTot', 'MCLabelClassification',\n",
       "       'MCLabelCoincidentMuons', 'MCLabelBgMuonMCPE',\n",
       "       'MCLabelBgMuonMCPECharge', 'GNLabelTrackEnergyDeposited',\n",
       "       'GNLabelTrackEnergyOnEntrance', 'GNLabelTrackEnergyOnEntrancePrimary',\n",
       "       'GNLabelTrackEnergyDepositedPrimary', 'GNLabelEnergyPrimary',\n",
       "       'GNLabelCascadeEnergyDepositedPrimary', 'GNLabelCascadeEnergyDeposited',\n",
       "       'GNLabelEnergyDepositedTotal', 'GNLabelEnergyDepositedPrimary',\n",
       "       'GNLabelHighestEInIceParticleIsChild',\n",
       "       'GNLabelHighestEInIceParticleDistance',\n",
       "       'GNLabelHighestEInIceParticleEFraction',\n",
       "       'GNLabelHighestEInIceParticleEOnEntrance',\n",
       "       'GNLabelHighestEDaughterDistance', 'GNLabelHighestEDaughterEFraction',\n",
       "       'event_no'],\n",
       "      dtype='object')"
      ]
     },
     "execution_count": 18,
     "metadata": {},
     "output_type": "execute_result"
    }
   ],
   "source": [
    "df_corsika_3_1_truth.columns"
   ]
  },
  {
   "cell_type": "code",
   "execution_count": 26,
   "metadata": {},
   "outputs": [
    {
     "data": {
      "text/plain": [
       "energy_cascade\n",
       "2.911520e+06    3\n",
       "2.753166e+06    2\n",
       "2.587496e+06    2\n",
       "9.485429e+06    2\n",
       "8.529739e+06    2\n",
       "               ..\n",
       "1.238408e+06    1\n",
       "2.030513e+06    1\n",
       "1.149920e+06    1\n",
       "1.802597e+06    1\n",
       "4.886806e+06    1\n",
       "Name: count, Length: 722, dtype: int64"
      ]
     },
     "execution_count": 26,
     "metadata": {},
     "output_type": "execute_result"
    }
   ],
   "source": [
    "df_corsika_3_1_truth['energy_cascade'].value_counts()"
   ]
  },
  {
   "cell_type": "code",
   "execution_count": 19,
   "metadata": {},
   "outputs": [
    {
     "data": {
      "text/html": [
       "<div>\n",
       "<style scoped>\n",
       "    .dataframe tbody tr th:only-of-type {\n",
       "        vertical-align: middle;\n",
       "    }\n",
       "\n",
       "    .dataframe tbody tr th {\n",
       "        vertical-align: top;\n",
       "    }\n",
       "\n",
       "    .dataframe thead th {\n",
       "        text-align: right;\n",
       "    }\n",
       "</style>\n",
       "<table border=\"1\" class=\"dataframe\">\n",
       "  <thead>\n",
       "    <tr style=\"text-align: right;\">\n",
       "      <th></th>\n",
       "      <th>energy</th>\n",
       "      <th>position_x</th>\n",
       "      <th>position_y</th>\n",
       "      <th>position_z</th>\n",
       "      <th>azimuth</th>\n",
       "      <th>zenith</th>\n",
       "      <th>pid</th>\n",
       "      <th>event_time</th>\n",
       "      <th>interaction_type</th>\n",
       "      <th>elasticity</th>\n",
       "      <th>...</th>\n",
       "      <th>GNLabelCascadeEnergyDeposited</th>\n",
       "      <th>GNLabelEnergyDepositedTotal</th>\n",
       "      <th>GNLabelEnergyDepositedPrimary</th>\n",
       "      <th>GNLabelHighestEInIceParticleIsChild</th>\n",
       "      <th>GNLabelHighestEInIceParticleDistance</th>\n",
       "      <th>GNLabelHighestEInIceParticleEFraction</th>\n",
       "      <th>GNLabelHighestEInIceParticleEOnEntrance</th>\n",
       "      <th>GNLabelHighestEDaughterDistance</th>\n",
       "      <th>GNLabelHighestEDaughterEFraction</th>\n",
       "      <th>event_no</th>\n",
       "    </tr>\n",
       "  </thead>\n",
       "  <tbody>\n",
       "    <tr>\n",
       "      <th>0</th>\n",
       "      <td>1.571089e+06</td>\n",
       "      <td>25152.565223</td>\n",
       "      <td>-80017.116959</td>\n",
       "      <td>111400.913556</td>\n",
       "      <td>5.016308</td>\n",
       "      <td>0.640399</td>\n",
       "      <td>2212.0</td>\n",
       "      <td>1.087909e+17</td>\n",
       "      <td>-1.0</td>\n",
       "      <td>-1.0</td>\n",
       "      <td>...</td>\n",
       "      <td>0.0</td>\n",
       "      <td>9.732804</td>\n",
       "      <td>1.481633</td>\n",
       "      <td>1.0</td>\n",
       "      <td>696.267529</td>\n",
       "      <td>0.003610</td>\n",
       "      <td>1235.479966</td>\n",
       "      <td>693.044847</td>\n",
       "      <td>0.003610</td>\n",
       "      <td>0</td>\n",
       "    </tr>\n",
       "    <tr>\n",
       "      <th>1</th>\n",
       "      <td>3.263975e+06</td>\n",
       "      <td>31509.888287</td>\n",
       "      <td>-85163.269728</td>\n",
       "      <td>111299.212765</td>\n",
       "      <td>5.065972</td>\n",
       "      <td>0.684746</td>\n",
       "      <td>2212.0</td>\n",
       "      <td>1.087909e+17</td>\n",
       "      <td>-1.0</td>\n",
       "      <td>-1.0</td>\n",
       "      <td>...</td>\n",
       "      <td>0.0</td>\n",
       "      <td>10343.176055</td>\n",
       "      <td>533.316813</td>\n",
       "      <td>1.0</td>\n",
       "      <td>93.961599</td>\n",
       "      <td>0.001557</td>\n",
       "      <td>3845.597609</td>\n",
       "      <td>93.457331</td>\n",
       "      <td>0.001557</td>\n",
       "      <td>1</td>\n",
       "    </tr>\n",
       "    <tr>\n",
       "      <th>2</th>\n",
       "      <td>3.263975e+06</td>\n",
       "      <td>32162.699531</td>\n",
       "      <td>-85419.597865</td>\n",
       "      <td>111299.021796</td>\n",
       "      <td>5.065972</td>\n",
       "      <td>0.684746</td>\n",
       "      <td>2212.0</td>\n",
       "      <td>1.087909e+17</td>\n",
       "      <td>-1.0</td>\n",
       "      <td>-1.0</td>\n",
       "      <td>...</td>\n",
       "      <td>0.0</td>\n",
       "      <td>244.026326</td>\n",
       "      <td>0.000000</td>\n",
       "      <td>1.0</td>\n",
       "      <td>668.278016</td>\n",
       "      <td>0.001003</td>\n",
       "      <td>1586.233446</td>\n",
       "      <td>669.157640</td>\n",
       "      <td>0.001557</td>\n",
       "      <td>2</td>\n",
       "    </tr>\n",
       "    <tr>\n",
       "      <th>3</th>\n",
       "      <td>1.245476e+06</td>\n",
       "      <td>-284382.620208</td>\n",
       "      <td>-44518.431120</td>\n",
       "      <td>105778.740461</td>\n",
       "      <td>3.295244</td>\n",
       "      <td>1.217942</td>\n",
       "      <td>2212.0</td>\n",
       "      <td>1.087909e+17</td>\n",
       "      <td>-1.0</td>\n",
       "      <td>-1.0</td>\n",
       "      <td>...</td>\n",
       "      <td>0.0</td>\n",
       "      <td>189.111810</td>\n",
       "      <td>189.111810</td>\n",
       "      <td>1.0</td>\n",
       "      <td>514.917442</td>\n",
       "      <td>0.003158</td>\n",
       "      <td>633.071924</td>\n",
       "      <td>514.917442</td>\n",
       "      <td>0.003158</td>\n",
       "      <td>3</td>\n",
       "    </tr>\n",
       "    <tr>\n",
       "      <th>4</th>\n",
       "      <td>1.849264e+06</td>\n",
       "      <td>97353.650527</td>\n",
       "      <td>-40141.865080</td>\n",
       "      <td>111098.887136</td>\n",
       "      <td>5.889868</td>\n",
       "      <td>0.755436</td>\n",
       "      <td>2212.0</td>\n",
       "      <td>1.087909e+17</td>\n",
       "      <td>-1.0</td>\n",
       "      <td>-1.0</td>\n",
       "      <td>...</td>\n",
       "      <td>0.0</td>\n",
       "      <td>824.393579</td>\n",
       "      <td>0.000000</td>\n",
       "      <td>1.0</td>\n",
       "      <td>540.038617</td>\n",
       "      <td>0.001755</td>\n",
       "      <td>1690.204050</td>\n",
       "      <td>540.038617</td>\n",
       "      <td>0.001755</td>\n",
       "      <td>4</td>\n",
       "    </tr>\n",
       "    <tr>\n",
       "      <th>5</th>\n",
       "      <td>4.772058e+06</td>\n",
       "      <td>55864.220234</td>\n",
       "      <td>-74839.122183</td>\n",
       "      <td>111265.020708</td>\n",
       "      <td>5.348843</td>\n",
       "      <td>0.698180</td>\n",
       "      <td>2212.0</td>\n",
       "      <td>1.087909e+17</td>\n",
       "      <td>-1.0</td>\n",
       "      <td>-1.0</td>\n",
       "      <td>...</td>\n",
       "      <td>0.0</td>\n",
       "      <td>8565.022711</td>\n",
       "      <td>383.433159</td>\n",
       "      <td>1.0</td>\n",
       "      <td>445.963857</td>\n",
       "      <td>0.000795</td>\n",
       "      <td>2616.226596</td>\n",
       "      <td>437.827380</td>\n",
       "      <td>0.001068</td>\n",
       "      <td>5</td>\n",
       "    </tr>\n",
       "    <tr>\n",
       "      <th>6</th>\n",
       "      <td>4.772058e+06</td>\n",
       "      <td>55088.008005</td>\n",
       "      <td>-75284.417706</td>\n",
       "      <td>111265.040773</td>\n",
       "      <td>5.348843</td>\n",
       "      <td>0.698180</td>\n",
       "      <td>2212.0</td>\n",
       "      <td>1.087909e+17</td>\n",
       "      <td>-1.0</td>\n",
       "      <td>-1.0</td>\n",
       "      <td>...</td>\n",
       "      <td>0.0</td>\n",
       "      <td>9362.626692</td>\n",
       "      <td>0.000000</td>\n",
       "      <td>1.0</td>\n",
       "      <td>446.818003</td>\n",
       "      <td>0.000838</td>\n",
       "      <td>3131.012576</td>\n",
       "      <td>438.249922</td>\n",
       "      <td>0.001068</td>\n",
       "      <td>6</td>\n",
       "    </tr>\n",
       "    <tr>\n",
       "      <th>7</th>\n",
       "      <td>1.203121e+06</td>\n",
       "      <td>28454.196053</td>\n",
       "      <td>6756.447446</td>\n",
       "      <td>111851.173552</td>\n",
       "      <td>0.237377</td>\n",
       "      <td>0.254319</td>\n",
       "      <td>2212.0</td>\n",
       "      <td>1.087909e+17</td>\n",
       "      <td>-1.0</td>\n",
       "      <td>-1.0</td>\n",
       "      <td>...</td>\n",
       "      <td>0.0</td>\n",
       "      <td>3284.947674</td>\n",
       "      <td>192.253675</td>\n",
       "      <td>1.0</td>\n",
       "      <td>206.008391</td>\n",
       "      <td>0.003318</td>\n",
       "      <td>3208.574823</td>\n",
       "      <td>206.008391</td>\n",
       "      <td>0.003318</td>\n",
       "      <td>7</td>\n",
       "    </tr>\n",
       "    <tr>\n",
       "      <th>8</th>\n",
       "      <td>1.415912e+06</td>\n",
       "      <td>373178.139736</td>\n",
       "      <td>-114822.004220</td>\n",
       "      <td>100677.348377</td>\n",
       "      <td>5.984162</td>\n",
       "      <td>1.317530</td>\n",
       "      <td>2212.0</td>\n",
       "      <td>1.087909e+17</td>\n",
       "      <td>-1.0</td>\n",
       "      <td>-1.0</td>\n",
       "      <td>...</td>\n",
       "      <td>0.0</td>\n",
       "      <td>996.054383</td>\n",
       "      <td>783.900109</td>\n",
       "      <td>1.0</td>\n",
       "      <td>424.493291</td>\n",
       "      <td>0.009176</td>\n",
       "      <td>1442.410948</td>\n",
       "      <td>424.493291</td>\n",
       "      <td>0.009176</td>\n",
       "      <td>8</td>\n",
       "    </tr>\n",
       "    <tr>\n",
       "      <th>9</th>\n",
       "      <td>1.787164e+07</td>\n",
       "      <td>115808.951668</td>\n",
       "      <td>180100.385649</td>\n",
       "      <td>108456.155925</td>\n",
       "      <td>0.999483</td>\n",
       "      <td>1.104697</td>\n",
       "      <td>2212.0</td>\n",
       "      <td>1.087909e+17</td>\n",
       "      <td>-1.0</td>\n",
       "      <td>-1.0</td>\n",
       "      <td>...</td>\n",
       "      <td>0.0</td>\n",
       "      <td>2143.994319</td>\n",
       "      <td>0.000000</td>\n",
       "      <td>1.0</td>\n",
       "      <td>665.114587</td>\n",
       "      <td>0.000385</td>\n",
       "      <td>4345.752301</td>\n",
       "      <td>659.309721</td>\n",
       "      <td>0.000405</td>\n",
       "      <td>9</td>\n",
       "    </tr>\n",
       "  </tbody>\n",
       "</table>\n",
       "<p>10 rows × 50 columns</p>\n",
       "</div>"
      ],
      "text/plain": [
       "         energy     position_x     position_y     position_z   azimuth  \\\n",
       "0  1.571089e+06   25152.565223  -80017.116959  111400.913556  5.016308   \n",
       "1  3.263975e+06   31509.888287  -85163.269728  111299.212765  5.065972   \n",
       "2  3.263975e+06   32162.699531  -85419.597865  111299.021796  5.065972   \n",
       "3  1.245476e+06 -284382.620208  -44518.431120  105778.740461  3.295244   \n",
       "4  1.849264e+06   97353.650527  -40141.865080  111098.887136  5.889868   \n",
       "5  4.772058e+06   55864.220234  -74839.122183  111265.020708  5.348843   \n",
       "6  4.772058e+06   55088.008005  -75284.417706  111265.040773  5.348843   \n",
       "7  1.203121e+06   28454.196053    6756.447446  111851.173552  0.237377   \n",
       "8  1.415912e+06  373178.139736 -114822.004220  100677.348377  5.984162   \n",
       "9  1.787164e+07  115808.951668  180100.385649  108456.155925  0.999483   \n",
       "\n",
       "     zenith     pid    event_time  interaction_type  elasticity  ...  \\\n",
       "0  0.640399  2212.0  1.087909e+17              -1.0        -1.0  ...   \n",
       "1  0.684746  2212.0  1.087909e+17              -1.0        -1.0  ...   \n",
       "2  0.684746  2212.0  1.087909e+17              -1.0        -1.0  ...   \n",
       "3  1.217942  2212.0  1.087909e+17              -1.0        -1.0  ...   \n",
       "4  0.755436  2212.0  1.087909e+17              -1.0        -1.0  ...   \n",
       "5  0.698180  2212.0  1.087909e+17              -1.0        -1.0  ...   \n",
       "6  0.698180  2212.0  1.087909e+17              -1.0        -1.0  ...   \n",
       "7  0.254319  2212.0  1.087909e+17              -1.0        -1.0  ...   \n",
       "8  1.317530  2212.0  1.087909e+17              -1.0        -1.0  ...   \n",
       "9  1.104697  2212.0  1.087909e+17              -1.0        -1.0  ...   \n",
       "\n",
       "   GNLabelCascadeEnergyDeposited  GNLabelEnergyDepositedTotal  \\\n",
       "0                            0.0                     9.732804   \n",
       "1                            0.0                 10343.176055   \n",
       "2                            0.0                   244.026326   \n",
       "3                            0.0                   189.111810   \n",
       "4                            0.0                   824.393579   \n",
       "5                            0.0                  8565.022711   \n",
       "6                            0.0                  9362.626692   \n",
       "7                            0.0                  3284.947674   \n",
       "8                            0.0                   996.054383   \n",
       "9                            0.0                  2143.994319   \n",
       "\n",
       "   GNLabelEnergyDepositedPrimary  GNLabelHighestEInIceParticleIsChild  \\\n",
       "0                       1.481633                                  1.0   \n",
       "1                     533.316813                                  1.0   \n",
       "2                       0.000000                                  1.0   \n",
       "3                     189.111810                                  1.0   \n",
       "4                       0.000000                                  1.0   \n",
       "5                     383.433159                                  1.0   \n",
       "6                       0.000000                                  1.0   \n",
       "7                     192.253675                                  1.0   \n",
       "8                     783.900109                                  1.0   \n",
       "9                       0.000000                                  1.0   \n",
       "\n",
       "   GNLabelHighestEInIceParticleDistance  \\\n",
       "0                            696.267529   \n",
       "1                             93.961599   \n",
       "2                            668.278016   \n",
       "3                            514.917442   \n",
       "4                            540.038617   \n",
       "5                            445.963857   \n",
       "6                            446.818003   \n",
       "7                            206.008391   \n",
       "8                            424.493291   \n",
       "9                            665.114587   \n",
       "\n",
       "   GNLabelHighestEInIceParticleEFraction  \\\n",
       "0                               0.003610   \n",
       "1                               0.001557   \n",
       "2                               0.001003   \n",
       "3                               0.003158   \n",
       "4                               0.001755   \n",
       "5                               0.000795   \n",
       "6                               0.000838   \n",
       "7                               0.003318   \n",
       "8                               0.009176   \n",
       "9                               0.000385   \n",
       "\n",
       "   GNLabelHighestEInIceParticleEOnEntrance  GNLabelHighestEDaughterDistance  \\\n",
       "0                              1235.479966                       693.044847   \n",
       "1                              3845.597609                        93.457331   \n",
       "2                              1586.233446                       669.157640   \n",
       "3                               633.071924                       514.917442   \n",
       "4                              1690.204050                       540.038617   \n",
       "5                              2616.226596                       437.827380   \n",
       "6                              3131.012576                       438.249922   \n",
       "7                              3208.574823                       206.008391   \n",
       "8                              1442.410948                       424.493291   \n",
       "9                              4345.752301                       659.309721   \n",
       "\n",
       "   GNLabelHighestEDaughterEFraction  event_no  \n",
       "0                          0.003610         0  \n",
       "1                          0.001557         1  \n",
       "2                          0.001557         2  \n",
       "3                          0.003158         3  \n",
       "4                          0.001755         4  \n",
       "5                          0.001068         5  \n",
       "6                          0.001068         6  \n",
       "7                          0.003318         7  \n",
       "8                          0.009176         8  \n",
       "9                          0.000405         9  \n",
       "\n",
       "[10 rows x 50 columns]"
      ]
     },
     "execution_count": 19,
     "metadata": {},
     "output_type": "execute_result"
    }
   ],
   "source": [
    "df_corsika_5_1_truth.head(10)"
   ]
  },
  {
   "cell_type": "code",
   "execution_count": 20,
   "metadata": {},
   "outputs": [
    {
     "data": {
      "text/html": [
       "<div>\n",
       "<style scoped>\n",
       "    .dataframe tbody tr th:only-of-type {\n",
       "        vertical-align: middle;\n",
       "    }\n",
       "\n",
       "    .dataframe tbody tr th {\n",
       "        vertical-align: top;\n",
       "    }\n",
       "\n",
       "    .dataframe thead th {\n",
       "        text-align: right;\n",
       "    }\n",
       "</style>\n",
       "<table border=\"1\" class=\"dataframe\">\n",
       "  <thead>\n",
       "    <tr style=\"text-align: right;\">\n",
       "      <th></th>\n",
       "      <th>energy</th>\n",
       "      <th>position_x</th>\n",
       "      <th>position_y</th>\n",
       "      <th>position_z</th>\n",
       "      <th>azimuth</th>\n",
       "      <th>zenith</th>\n",
       "      <th>pid</th>\n",
       "      <th>event_time</th>\n",
       "      <th>interaction_type</th>\n",
       "      <th>elasticity</th>\n",
       "      <th>...</th>\n",
       "      <th>GNLabelCascadeEnergyDeposited</th>\n",
       "      <th>GNLabelEnergyDepositedTotal</th>\n",
       "      <th>GNLabelEnergyDepositedPrimary</th>\n",
       "      <th>GNLabelHighestEInIceParticleIsChild</th>\n",
       "      <th>GNLabelHighestEInIceParticleDistance</th>\n",
       "      <th>GNLabelHighestEInIceParticleEFraction</th>\n",
       "      <th>GNLabelHighestEInIceParticleEOnEntrance</th>\n",
       "      <th>GNLabelHighestEDaughterDistance</th>\n",
       "      <th>GNLabelHighestEDaughterEFraction</th>\n",
       "      <th>event_no</th>\n",
       "    </tr>\n",
       "  </thead>\n",
       "  <tbody>\n",
       "    <tr>\n",
       "      <th>0</th>\n",
       "      <td>1.006049e+06</td>\n",
       "      <td>108708.998473</td>\n",
       "      <td>-156988.239302</td>\n",
       "      <td>109187.236149</td>\n",
       "      <td>5.318774</td>\n",
       "      <td>1.052416</td>\n",
       "      <td>2212.0</td>\n",
       "      <td>1.087909e+17</td>\n",
       "      <td>-1.0</td>\n",
       "      <td>-1.0</td>\n",
       "      <td>...</td>\n",
       "      <td>0.0</td>\n",
       "      <td>4457.550273</td>\n",
       "      <td>544.968802</td>\n",
       "      <td>1.0</td>\n",
       "      <td>269.291968</td>\n",
       "      <td>0.015290</td>\n",
       "      <td>6522.812924</td>\n",
       "      <td>269.291968</td>\n",
       "      <td>0.015290</td>\n",
       "      <td>1396273</td>\n",
       "    </tr>\n",
       "    <tr>\n",
       "      <th>1</th>\n",
       "      <td>1.397321e+06</td>\n",
       "      <td>-129349.054786</td>\n",
       "      <td>-228361.338569</td>\n",
       "      <td>106771.007226</td>\n",
       "      <td>4.196499</td>\n",
       "      <td>1.185106</td>\n",
       "      <td>2212.0</td>\n",
       "      <td>1.087909e+17</td>\n",
       "      <td>-1.0</td>\n",
       "      <td>-1.0</td>\n",
       "      <td>...</td>\n",
       "      <td>0.0</td>\n",
       "      <td>4736.759518</td>\n",
       "      <td>451.483621</td>\n",
       "      <td>1.0</td>\n",
       "      <td>237.425181</td>\n",
       "      <td>0.023411</td>\n",
       "      <td>17747.006683</td>\n",
       "      <td>237.425181</td>\n",
       "      <td>0.023411</td>\n",
       "      <td>1396274</td>\n",
       "    </tr>\n",
       "    <tr>\n",
       "      <th>2</th>\n",
       "      <td>1.251381e+06</td>\n",
       "      <td>347307.692155</td>\n",
       "      <td>-32903.765175</td>\n",
       "      <td>102862.033114</td>\n",
       "      <td>6.188577</td>\n",
       "      <td>1.284214</td>\n",
       "      <td>2212.0</td>\n",
       "      <td>1.087909e+17</td>\n",
       "      <td>-1.0</td>\n",
       "      <td>-1.0</td>\n",
       "      <td>...</td>\n",
       "      <td>0.0</td>\n",
       "      <td>334.559577</td>\n",
       "      <td>334.559577</td>\n",
       "      <td>1.0</td>\n",
       "      <td>78.073675</td>\n",
       "      <td>0.006522</td>\n",
       "      <td>945.668152</td>\n",
       "      <td>78.073675</td>\n",
       "      <td>0.006522</td>\n",
       "      <td>1396275</td>\n",
       "    </tr>\n",
       "    <tr>\n",
       "      <th>3</th>\n",
       "      <td>1.276502e+07</td>\n",
       "      <td>48126.555450</td>\n",
       "      <td>-15810.122669</td>\n",
       "      <td>111726.292229</td>\n",
       "      <td>5.958082</td>\n",
       "      <td>0.422088</td>\n",
       "      <td>2212.0</td>\n",
       "      <td>1.087909e+17</td>\n",
       "      <td>-1.0</td>\n",
       "      <td>-1.0</td>\n",
       "      <td>...</td>\n",
       "      <td>0.0</td>\n",
       "      <td>4894.747461</td>\n",
       "      <td>0.000000</td>\n",
       "      <td>1.0</td>\n",
       "      <td>586.608848</td>\n",
       "      <td>0.000268</td>\n",
       "      <td>2447.631703</td>\n",
       "      <td>610.523371</td>\n",
       "      <td>0.000397</td>\n",
       "      <td>1396276</td>\n",
       "    </tr>\n",
       "    <tr>\n",
       "      <th>4</th>\n",
       "      <td>1.276502e+07</td>\n",
       "      <td>47974.379587</td>\n",
       "      <td>-16192.081503</td>\n",
       "      <td>111726.313507</td>\n",
       "      <td>5.958082</td>\n",
       "      <td>0.422088</td>\n",
       "      <td>2212.0</td>\n",
       "      <td>1.087909e+17</td>\n",
       "      <td>-1.0</td>\n",
       "      <td>-1.0</td>\n",
       "      <td>...</td>\n",
       "      <td>0.0</td>\n",
       "      <td>8991.898680</td>\n",
       "      <td>0.000000</td>\n",
       "      <td>1.0</td>\n",
       "      <td>418.762876</td>\n",
       "      <td>0.000268</td>\n",
       "      <td>2484.835055</td>\n",
       "      <td>415.058102</td>\n",
       "      <td>0.000397</td>\n",
       "      <td>1396277</td>\n",
       "    </tr>\n",
       "    <tr>\n",
       "      <th>5</th>\n",
       "      <td>1.438591e+07</td>\n",
       "      <td>-179369.954617</td>\n",
       "      <td>-175766.418381</td>\n",
       "      <td>107190.610154</td>\n",
       "      <td>3.918947</td>\n",
       "      <td>1.168618</td>\n",
       "      <td>2212.0</td>\n",
       "      <td>1.087909e+17</td>\n",
       "      <td>-1.0</td>\n",
       "      <td>-1.0</td>\n",
       "      <td>...</td>\n",
       "      <td>0.0</td>\n",
       "      <td>2893.349616</td>\n",
       "      <td>129.192823</td>\n",
       "      <td>1.0</td>\n",
       "      <td>629.941870</td>\n",
       "      <td>0.000644</td>\n",
       "      <td>3984.447473</td>\n",
       "      <td>636.920224</td>\n",
       "      <td>0.000660</td>\n",
       "      <td>1396278</td>\n",
       "    </tr>\n",
       "    <tr>\n",
       "      <th>6</th>\n",
       "      <td>1.438591e+07</td>\n",
       "      <td>-180159.421617</td>\n",
       "      <td>-178105.398535</td>\n",
       "      <td>107188.906495</td>\n",
       "      <td>3.918947</td>\n",
       "      <td>1.168618</td>\n",
       "      <td>2212.0</td>\n",
       "      <td>1.087909e+17</td>\n",
       "      <td>-1.0</td>\n",
       "      <td>-1.0</td>\n",
       "      <td>...</td>\n",
       "      <td>0.0</td>\n",
       "      <td>0.000000</td>\n",
       "      <td>0.000000</td>\n",
       "      <td>1.0</td>\n",
       "      <td>789.578641</td>\n",
       "      <td>0.000447</td>\n",
       "      <td>1809.939840</td>\n",
       "      <td>785.328043</td>\n",
       "      <td>0.000660</td>\n",
       "      <td>1396279</td>\n",
       "    </tr>\n",
       "    <tr>\n",
       "      <th>7</th>\n",
       "      <td>4.817904e+06</td>\n",
       "      <td>50635.701942</td>\n",
       "      <td>-82391.412431</td>\n",
       "      <td>111209.591594</td>\n",
       "      <td>5.260615</td>\n",
       "      <td>0.718557</td>\n",
       "      <td>2212.0</td>\n",
       "      <td>1.087909e+17</td>\n",
       "      <td>-1.0</td>\n",
       "      <td>-1.0</td>\n",
       "      <td>...</td>\n",
       "      <td>0.0</td>\n",
       "      <td>2886.730692</td>\n",
       "      <td>0.000000</td>\n",
       "      <td>1.0</td>\n",
       "      <td>496.884299</td>\n",
       "      <td>0.001212</td>\n",
       "      <td>3945.278599</td>\n",
       "      <td>490.905593</td>\n",
       "      <td>0.002327</td>\n",
       "      <td>1396280</td>\n",
       "    </tr>\n",
       "    <tr>\n",
       "      <th>8</th>\n",
       "      <td>4.817904e+06</td>\n",
       "      <td>50944.579739</td>\n",
       "      <td>-83258.671891</td>\n",
       "      <td>111209.532658</td>\n",
       "      <td>5.260615</td>\n",
       "      <td>0.718557</td>\n",
       "      <td>2212.0</td>\n",
       "      <td>1.087909e+17</td>\n",
       "      <td>-1.0</td>\n",
       "      <td>-1.0</td>\n",
       "      <td>...</td>\n",
       "      <td>0.0</td>\n",
       "      <td>2143.198418</td>\n",
       "      <td>223.318460</td>\n",
       "      <td>1.0</td>\n",
       "      <td>278.543326</td>\n",
       "      <td>0.002327</td>\n",
       "      <td>5222.578473</td>\n",
       "      <td>278.543326</td>\n",
       "      <td>0.002327</td>\n",
       "      <td>1396281</td>\n",
       "    </tr>\n",
       "    <tr>\n",
       "      <th>9</th>\n",
       "      <td>2.222282e+06</td>\n",
       "      <td>7794.286650</td>\n",
       "      <td>269051.545777</td>\n",
       "      <td>106511.893161</td>\n",
       "      <td>1.543949</td>\n",
       "      <td>1.194427</td>\n",
       "      <td>2212.0</td>\n",
       "      <td>1.087909e+17</td>\n",
       "      <td>-1.0</td>\n",
       "      <td>-1.0</td>\n",
       "      <td>...</td>\n",
       "      <td>0.0</td>\n",
       "      <td>29.841595</td>\n",
       "      <td>0.000000</td>\n",
       "      <td>1.0</td>\n",
       "      <td>593.675241</td>\n",
       "      <td>0.002336</td>\n",
       "      <td>2189.188388</td>\n",
       "      <td>593.675241</td>\n",
       "      <td>0.002336</td>\n",
       "      <td>1396282</td>\n",
       "    </tr>\n",
       "  </tbody>\n",
       "</table>\n",
       "<p>10 rows × 50 columns</p>\n",
       "</div>"
      ],
      "text/plain": [
       "         energy     position_x     position_y     position_z   azimuth  \\\n",
       "0  1.006049e+06  108708.998473 -156988.239302  109187.236149  5.318774   \n",
       "1  1.397321e+06 -129349.054786 -228361.338569  106771.007226  4.196499   \n",
       "2  1.251381e+06  347307.692155  -32903.765175  102862.033114  6.188577   \n",
       "3  1.276502e+07   48126.555450  -15810.122669  111726.292229  5.958082   \n",
       "4  1.276502e+07   47974.379587  -16192.081503  111726.313507  5.958082   \n",
       "5  1.438591e+07 -179369.954617 -175766.418381  107190.610154  3.918947   \n",
       "6  1.438591e+07 -180159.421617 -178105.398535  107188.906495  3.918947   \n",
       "7  4.817904e+06   50635.701942  -82391.412431  111209.591594  5.260615   \n",
       "8  4.817904e+06   50944.579739  -83258.671891  111209.532658  5.260615   \n",
       "9  2.222282e+06    7794.286650  269051.545777  106511.893161  1.543949   \n",
       "\n",
       "     zenith     pid    event_time  interaction_type  elasticity  ...  \\\n",
       "0  1.052416  2212.0  1.087909e+17              -1.0        -1.0  ...   \n",
       "1  1.185106  2212.0  1.087909e+17              -1.0        -1.0  ...   \n",
       "2  1.284214  2212.0  1.087909e+17              -1.0        -1.0  ...   \n",
       "3  0.422088  2212.0  1.087909e+17              -1.0        -1.0  ...   \n",
       "4  0.422088  2212.0  1.087909e+17              -1.0        -1.0  ...   \n",
       "5  1.168618  2212.0  1.087909e+17              -1.0        -1.0  ...   \n",
       "6  1.168618  2212.0  1.087909e+17              -1.0        -1.0  ...   \n",
       "7  0.718557  2212.0  1.087909e+17              -1.0        -1.0  ...   \n",
       "8  0.718557  2212.0  1.087909e+17              -1.0        -1.0  ...   \n",
       "9  1.194427  2212.0  1.087909e+17              -1.0        -1.0  ...   \n",
       "\n",
       "   GNLabelCascadeEnergyDeposited  GNLabelEnergyDepositedTotal  \\\n",
       "0                            0.0                  4457.550273   \n",
       "1                            0.0                  4736.759518   \n",
       "2                            0.0                   334.559577   \n",
       "3                            0.0                  4894.747461   \n",
       "4                            0.0                  8991.898680   \n",
       "5                            0.0                  2893.349616   \n",
       "6                            0.0                     0.000000   \n",
       "7                            0.0                  2886.730692   \n",
       "8                            0.0                  2143.198418   \n",
       "9                            0.0                    29.841595   \n",
       "\n",
       "   GNLabelEnergyDepositedPrimary  GNLabelHighestEInIceParticleIsChild  \\\n",
       "0                     544.968802                                  1.0   \n",
       "1                     451.483621                                  1.0   \n",
       "2                     334.559577                                  1.0   \n",
       "3                       0.000000                                  1.0   \n",
       "4                       0.000000                                  1.0   \n",
       "5                     129.192823                                  1.0   \n",
       "6                       0.000000                                  1.0   \n",
       "7                       0.000000                                  1.0   \n",
       "8                     223.318460                                  1.0   \n",
       "9                       0.000000                                  1.0   \n",
       "\n",
       "   GNLabelHighestEInIceParticleDistance  \\\n",
       "0                            269.291968   \n",
       "1                            237.425181   \n",
       "2                             78.073675   \n",
       "3                            586.608848   \n",
       "4                            418.762876   \n",
       "5                            629.941870   \n",
       "6                            789.578641   \n",
       "7                            496.884299   \n",
       "8                            278.543326   \n",
       "9                            593.675241   \n",
       "\n",
       "   GNLabelHighestEInIceParticleEFraction  \\\n",
       "0                               0.015290   \n",
       "1                               0.023411   \n",
       "2                               0.006522   \n",
       "3                               0.000268   \n",
       "4                               0.000268   \n",
       "5                               0.000644   \n",
       "6                               0.000447   \n",
       "7                               0.001212   \n",
       "8                               0.002327   \n",
       "9                               0.002336   \n",
       "\n",
       "   GNLabelHighestEInIceParticleEOnEntrance  GNLabelHighestEDaughterDistance  \\\n",
       "0                              6522.812924                       269.291968   \n",
       "1                             17747.006683                       237.425181   \n",
       "2                               945.668152                        78.073675   \n",
       "3                              2447.631703                       610.523371   \n",
       "4                              2484.835055                       415.058102   \n",
       "5                              3984.447473                       636.920224   \n",
       "6                              1809.939840                       785.328043   \n",
       "7                              3945.278599                       490.905593   \n",
       "8                              5222.578473                       278.543326   \n",
       "9                              2189.188388                       593.675241   \n",
       "\n",
       "   GNLabelHighestEDaughterEFraction  event_no  \n",
       "0                          0.015290   1396273  \n",
       "1                          0.023411   1396274  \n",
       "2                          0.006522   1396275  \n",
       "3                          0.000397   1396276  \n",
       "4                          0.000397   1396277  \n",
       "5                          0.000660   1396278  \n",
       "6                          0.000660   1396279  \n",
       "7                          0.002327   1396280  \n",
       "8                          0.002327   1396281  \n",
       "9                          0.002336   1396282  \n",
       "\n",
       "[10 rows x 50 columns]"
      ]
     },
     "execution_count": 20,
     "metadata": {},
     "output_type": "execute_result"
    }
   ],
   "source": [
    "df_corsika_7_7_truth.head(10)"
   ]
  },
  {
   "cell_type": "code",
   "execution_count": null,
   "metadata": {},
   "outputs": [],
   "source": []
  },
  {
   "cell_type": "code",
   "execution_count": null,
   "metadata": {},
   "outputs": [],
   "source": []
  }
 ],
 "metadata": {
  "kernelspec": {
   "display_name": "Python 3",
   "language": "python",
   "name": "python3"
  },
  "language_info": {
   "codemirror_mode": {
    "name": "ipython",
    "version": 3
   },
   "file_extension": ".py",
   "mimetype": "text/x-python",
   "name": "python",
   "nbconvert_exporter": "python",
   "pygments_lexer": "ipython3",
   "version": "3.9.18"
  }
 },
 "nbformat": 4,
 "nbformat_minor": 2
}
