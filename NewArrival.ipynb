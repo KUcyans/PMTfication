{
 "cells": [
  {
   "cell_type": "code",
   "execution_count": 7,
   "metadata": {},
   "outputs": [],
   "source": [
    "import numpy as np\n",
    "import pandas as pd\n",
    "import os\n",
    "import math\n",
    "import sys\n",
    "import matplotlib.pyplot as plt\n",
    "import tarfile\n",
    "from tqdm import tqdm\n",
    "import sqlite3 as sql\n",
    "# 1 min 15 sec"
   ]
  },
  {
   "cell_type": "code",
   "execution_count": 8,
   "metadata": {},
   "outputs": [],
   "source": [
    "sys.path.append('/groups/icecube/cyan/Utils')\n",
    "from PlotUtils import setMplParam, getColour, getHistoParam \n",
    "# getHistoParam:\n",
    "# Nbins, binwidth, bins, counts, bin_centers  = \n",
    "from DB_lister import list_content, list_tables\n",
    "from ExternalFunctions import nice_string_output, add_text_to_ax\n",
    "setMplParam()"
   ]
  },
  {
   "cell_type": "code",
   "execution_count": 9,
   "metadata": {},
   "outputs": [],
   "source": [
    "root_dir = \"/lustre/hpc/project/icecube/HE_Nu_Aske_Oct2024/\"\n",
    "original_file_dir = root_dir + \"tar.gz/\""
   ]
  },
  {
   "cell_type": "code",
   "execution_count": 22,
   "metadata": {},
   "outputs": [
    {
     "name": "stdout",
     "output_type": "stream",
     "text": [
      "files in the directory:  11\n"
     ]
    }
   ],
   "source": [
    "print(\"files in the directory: \",len(os.listdir(original_file_dir)))"
   ]
  },
  {
   "cell_type": "code",
   "execution_count": 23,
   "metadata": {},
   "outputs": [],
   "source": [
    "def safemembers(members):\n",
    "    for member in members:\n",
    "        # Check for absolute paths and relative paths with '..'\n",
    "        if not os.path.isabs(member.name) and \"..\" not in member.name:\n",
    "            yield member"
   ]
  },
  {
   "cell_type": "code",
   "execution_count": 24,
   "metadata": {},
   "outputs": [],
   "source": [
    "def extract_all_tar_gz(src_dir, dest_dir):\n",
    "    # Check if destination directory exists; if not, create it\n",
    "    if not os.path.exists(dest_dir):\n",
    "        os.makedirs(dest_dir)\n",
    "\n",
    "    # Loop through each file in the source directory\n",
    "    for filename in tqdm(os.listdir(src_dir)):\n",
    "        # Check if the file is a .tar.gz file\n",
    "        if filename.endswith('.tar.gz'):\n",
    "            file_path = os.path.join(src_dir, filename)\n",
    "            print(f\"Extracting {file_path}...\")\n",
    "\n",
    "            # Open and extract the tar.gz file\n",
    "            with tarfile.open(file_path, 'r:gz') as tar:\n",
    "                tar.extractall(path=dest_dir, members=safemembers(tar))\n",
    "\n",
    "            print(f\"Extracted {filename} to {dest_dir}\")"
   ]
  },
  {
   "cell_type": "code",
   "execution_count": 25,
   "metadata": {},
   "outputs": [
    {
     "name": "stderr",
     "output_type": "stream",
     "text": [
      "  0%|          | 0/8 [00:00<?, ?it/s]/usr/lib64/python3.9/tarfile.py:2239: RuntimeWarning: The default behavior of tarfile extraction has been changed to disallow common exploits (including CVE-2007-4559). By default, absolute/parent paths are disallowed and some mode bits are cleared. See https://access.redhat.com/articles/7004769 for more details.\n",
      "  warnings.warn(\n"
     ]
    },
    {
     "name": "stdout",
     "output_type": "stream",
     "text": [
      "Extracting /lustre/hpc/project/icecube/HE_Nu_Aske_Oct2024/tar.gz/Corsika_l2/20848_0009000_0009999.tar.gz...\n"
     ]
    },
    {
     "name": "stderr",
     "output_type": "stream",
     "text": [
      " 12%|█▎        | 1/8 [17:38<2:03:31, 1058.76s/it]"
     ]
    },
    {
     "name": "stdout",
     "output_type": "stream",
     "text": [
      "Extracted 20848_0009000_0009999.tar.gz to /lustre/hpc/project/icecube/HE_Nu_Aske_Oct2024/sqlite_pulses/Corsika\n",
      "Extracting /lustre/hpc/project/icecube/HE_Nu_Aske_Oct2024/tar.gz/Corsika_l2/20848_0005000_0005999.tar.gz...\n"
     ]
    },
    {
     "name": "stderr",
     "output_type": "stream",
     "text": [
      " 25%|██▌       | 2/8 [35:09<1:45:25, 1054.29s/it]"
     ]
    },
    {
     "name": "stdout",
     "output_type": "stream",
     "text": [
      "Extracted 20848_0005000_0005999.tar.gz to /lustre/hpc/project/icecube/HE_Nu_Aske_Oct2024/sqlite_pulses/Corsika\n",
      "Extracting /lustre/hpc/project/icecube/HE_Nu_Aske_Oct2024/tar.gz/Corsika_l2/20848_0003000_0003999.tar.gz...\n"
     ]
    },
    {
     "name": "stderr",
     "output_type": "stream",
     "text": [
      " 38%|███▊      | 3/8 [52:40<1:27:41, 1052.38s/it]"
     ]
    },
    {
     "name": "stdout",
     "output_type": "stream",
     "text": [
      "Extracted 20848_0003000_0003999.tar.gz to /lustre/hpc/project/icecube/HE_Nu_Aske_Oct2024/sqlite_pulses/Corsika\n",
      "Extracting /lustre/hpc/project/icecube/HE_Nu_Aske_Oct2024/tar.gz/Corsika_l2/20848_0008000_0008999.tar.gz...\n"
     ]
    },
    {
     "name": "stderr",
     "output_type": "stream",
     "text": [
      " 50%|█████     | 4/8 [1:10:07<1:10:01, 1050.25s/it]"
     ]
    },
    {
     "name": "stdout",
     "output_type": "stream",
     "text": [
      "Extracted 20848_0008000_0008999.tar.gz to /lustre/hpc/project/icecube/HE_Nu_Aske_Oct2024/sqlite_pulses/Corsika\n",
      "Extracting /lustre/hpc/project/icecube/HE_Nu_Aske_Oct2024/tar.gz/Corsika_l2/20848_0004000_0004999.tar.gz...\n"
     ]
    },
    {
     "name": "stderr",
     "output_type": "stream",
     "text": [
      " 62%|██████▎   | 5/8 [1:27:41<52:35, 1051.95s/it]  "
     ]
    },
    {
     "name": "stdout",
     "output_type": "stream",
     "text": [
      "Extracted 20848_0004000_0004999.tar.gz to /lustre/hpc/project/icecube/HE_Nu_Aske_Oct2024/sqlite_pulses/Corsika\n",
      "Extracting /lustre/hpc/project/icecube/HE_Nu_Aske_Oct2024/tar.gz/Corsika_l2/20848_0002000_0002999.tar.gz...\n"
     ]
    },
    {
     "name": "stderr",
     "output_type": "stream",
     "text": [
      " 75%|███████▌  | 6/8 [1:45:07<34:59, 1049.79s/it]"
     ]
    },
    {
     "name": "stdout",
     "output_type": "stream",
     "text": [
      "Extracted 20848_0002000_0002999.tar.gz to /lustre/hpc/project/icecube/HE_Nu_Aske_Oct2024/sqlite_pulses/Corsika\n",
      "Extracting /lustre/hpc/project/icecube/HE_Nu_Aske_Oct2024/tar.gz/Corsika_l2/20848_0007000_0007999.tar.gz...\n"
     ]
    },
    {
     "name": "stderr",
     "output_type": "stream",
     "text": [
      " 88%|████████▊ | 7/8 [2:02:38<17:30, 1050.05s/it]"
     ]
    },
    {
     "name": "stdout",
     "output_type": "stream",
     "text": [
      "Extracted 20848_0007000_0007999.tar.gz to /lustre/hpc/project/icecube/HE_Nu_Aske_Oct2024/sqlite_pulses/Corsika\n",
      "Extracting /lustre/hpc/project/icecube/HE_Nu_Aske_Oct2024/tar.gz/Corsika_l2/20848_0006000_0006999.tar.gz...\n"
     ]
    },
    {
     "name": "stderr",
     "output_type": "stream",
     "text": [
      "100%|██████████| 8/8 [2:20:17<00:00, 1052.22s/it]"
     ]
    },
    {
     "name": "stdout",
     "output_type": "stream",
     "text": [
      "Extracted 20848_0006000_0006999.tar.gz to /lustre/hpc/project/icecube/HE_Nu_Aske_Oct2024/sqlite_pulses/Corsika\n"
     ]
    },
    {
     "name": "stderr",
     "output_type": "stream",
     "text": [
      "\n"
     ]
    }
   ],
   "source": [
    "corsika_source_dir = \"/lustre/hpc/project/icecube/HE_Nu_Aske_Oct2024/tar.gz/Corsika_l2\"\n",
    "corsika_dest_dir = \"/lustre/hpc/project/icecube/HE_Nu_Aske_Oct2024/sqlite_pulses/Corsika\"\n",
    "extract_all_tar_gz(corsika_source_dir, corsika_dest_dir)\n",
    "# 17 min per each tar.gz file(31GB)\n",
    "# 8 files: 2 hours 16 min\n",
    "# actual time: 140 min = 2 hours 20 min"
   ]
  },
  {
   "cell_type": "code",
   "execution_count": 26,
   "metadata": {},
   "outputs": [
    {
     "name": "stderr",
     "output_type": "stream",
     "text": [
      "  0%|          | 0/27 [00:00<?, ?it/s]"
     ]
    },
    {
     "name": "stdout",
     "output_type": "stream",
     "text": [
      "Extracting /lustre/hpc/project/icecube/HE_Nu_Aske_Oct2024/tar.gz/Snowstorm_l2/22081.tar.gz...\n"
     ]
    },
    {
     "name": "stderr",
     "output_type": "stream",
     "text": [
      "/usr/lib64/python3.9/tarfile.py:2239: RuntimeWarning: The default behavior of tarfile extraction has been changed to disallow common exploits (including CVE-2007-4559). By default, absolute/parent paths are disallowed and some mode bits are cleared. See https://access.redhat.com/articles/7004769 for more details.\n",
      "  warnings.warn(\n",
      "  4%|▎         | 1/27 [02:16<59:15, 136.77s/it]"
     ]
    },
    {
     "name": "stdout",
     "output_type": "stream",
     "text": [
      "Extracted 22081.tar.gz to /lustre/hpc/project/icecube/HE_Nu_Aske_Oct2024/sqlite_pulses/Snowstorm\n",
      "Extracting /lustre/hpc/project/icecube/HE_Nu_Aske_Oct2024/tar.gz/Snowstorm_l2/22017.tar.gz...\n"
     ]
    },
    {
     "name": "stderr",
     "output_type": "stream",
     "text": [
      "  7%|▋         | 2/27 [09:00<2:02:28, 293.95s/it]"
     ]
    },
    {
     "name": "stdout",
     "output_type": "stream",
     "text": [
      "Extracted 22017.tar.gz to /lustre/hpc/project/icecube/HE_Nu_Aske_Oct2024/sqlite_pulses/Snowstorm\n",
      "Extracting /lustre/hpc/project/icecube/HE_Nu_Aske_Oct2024/tar.gz/Snowstorm_l2/22083.tar.gz...\n"
     ]
    },
    {
     "name": "stderr",
     "output_type": "stream",
     "text": [
      " 11%|█         | 3/27 [17:33<2:37:33, 393.89s/it]"
     ]
    },
    {
     "name": "stdout",
     "output_type": "stream",
     "text": [
      "Extracted 22083.tar.gz to /lustre/hpc/project/icecube/HE_Nu_Aske_Oct2024/sqlite_pulses/Snowstorm\n",
      "Extracting /lustre/hpc/project/icecube/HE_Nu_Aske_Oct2024/tar.gz/Snowstorm_l2/22018.tar.gz...\n"
     ]
    },
    {
     "name": "stderr",
     "output_type": "stream",
     "text": [
      " 15%|█▍        | 4/27 [1:00:38<8:02:36, 1258.96s/it]"
     ]
    },
    {
     "name": "stdout",
     "output_type": "stream",
     "text": [
      "Extracted 22018.tar.gz to /lustre/hpc/project/icecube/HE_Nu_Aske_Oct2024/sqlite_pulses/Snowstorm\n",
      "Extracting /lustre/hpc/project/icecube/HE_Nu_Aske_Oct2024/tar.gz/Snowstorm_l2/22043.tar.gz...\n"
     ]
    },
    {
     "name": "stderr",
     "output_type": "stream",
     "text": [
      " 19%|█▊        | 5/27 [1:03:48<5:20:13, 873.35s/it] "
     ]
    },
    {
     "name": "stdout",
     "output_type": "stream",
     "text": [
      "Extracted 22043.tar.gz to /lustre/hpc/project/icecube/HE_Nu_Aske_Oct2024/sqlite_pulses/Snowstorm\n",
      "Extracting /lustre/hpc/project/icecube/HE_Nu_Aske_Oct2024/tar.gz/Snowstorm_l2/22015.tar.gz...\n"
     ]
    },
    {
     "name": "stderr",
     "output_type": "stream",
     "text": [
      " 22%|██▏       | 6/27 [1:28:17<6:16:36, 1076.04s/it]"
     ]
    },
    {
     "name": "stdout",
     "output_type": "stream",
     "text": [
      "Extracted 22015.tar.gz to /lustre/hpc/project/icecube/HE_Nu_Aske_Oct2024/sqlite_pulses/Snowstorm\n",
      "Extracting /lustre/hpc/project/icecube/HE_Nu_Aske_Oct2024/tar.gz/Snowstorm_l2/22079.tar.gz...\n"
     ]
    },
    {
     "name": "stderr",
     "output_type": "stream",
     "text": [
      " 26%|██▌       | 7/27 [1:35:31<4:48:41, 866.09s/it] "
     ]
    },
    {
     "name": "stdout",
     "output_type": "stream",
     "text": [
      "Extracted 22079.tar.gz to /lustre/hpc/project/icecube/HE_Nu_Aske_Oct2024/sqlite_pulses/Snowstorm\n",
      "Extracting /lustre/hpc/project/icecube/HE_Nu_Aske_Oct2024/tar.gz/Snowstorm_l2/22013.tar.gz...\n"
     ]
    },
    {
     "name": "stderr",
     "output_type": "stream",
     "text": [
      " 30%|██▉       | 8/27 [1:39:14<3:29:26, 661.37s/it]"
     ]
    },
    {
     "name": "stdout",
     "output_type": "stream",
     "text": [
      "Extracted 22013.tar.gz to /lustre/hpc/project/icecube/HE_Nu_Aske_Oct2024/sqlite_pulses/Snowstorm\n",
      "Extracting /lustre/hpc/project/icecube/HE_Nu_Aske_Oct2024/tar.gz/Snowstorm_l2/22048.tar.gz...\n"
     ]
    },
    {
     "name": "stderr",
     "output_type": "stream",
     "text": [
      " 33%|███▎      | 9/27 [1:39:45<2:19:17, 464.30s/it]"
     ]
    },
    {
     "name": "stdout",
     "output_type": "stream",
     "text": [
      "Extracted 22048.tar.gz to /lustre/hpc/project/icecube/HE_Nu_Aske_Oct2024/sqlite_pulses/Snowstorm\n",
      "Extracting /lustre/hpc/project/icecube/HE_Nu_Aske_Oct2024/tar.gz/Snowstorm_l2/22085.tar.gz...\n"
     ]
    },
    {
     "name": "stderr",
     "output_type": "stream",
     "text": [
      " 37%|███▋      | 10/27 [1:42:06<1:43:13, 364.35s/it]"
     ]
    },
    {
     "name": "stdout",
     "output_type": "stream",
     "text": [
      "Extracted 22085.tar.gz to /lustre/hpc/project/icecube/HE_Nu_Aske_Oct2024/sqlite_pulses/Snowstorm\n",
      "Extracting /lustre/hpc/project/icecube/HE_Nu_Aske_Oct2024/tar.gz/Snowstorm_l2/22045.tar.gz...\n"
     ]
    },
    {
     "name": "stderr",
     "output_type": "stream",
     "text": [
      " 41%|████      | 11/27 [1:42:39<1:10:09, 263.08s/it]"
     ]
    },
    {
     "name": "stdout",
     "output_type": "stream",
     "text": [
      "Extracted 22045.tar.gz to /lustre/hpc/project/icecube/HE_Nu_Aske_Oct2024/sqlite_pulses/Snowstorm\n",
      "Extracting /lustre/hpc/project/icecube/HE_Nu_Aske_Oct2024/tar.gz/Snowstorm_l2/22011.tar.gz...\n"
     ]
    },
    {
     "name": "stderr",
     "output_type": "stream",
     "text": [
      " 44%|████▍     | 12/27 [2:03:21<2:20:10, 560.70s/it]"
     ]
    },
    {
     "name": "stdout",
     "output_type": "stream",
     "text": [
      "Extracted 22011.tar.gz to /lustre/hpc/project/icecube/HE_Nu_Aske_Oct2024/sqlite_pulses/Snowstorm\n",
      "Extracting /lustre/hpc/project/icecube/HE_Nu_Aske_Oct2024/tar.gz/Snowstorm_l2/22047.tar.gz...\n"
     ]
    },
    {
     "name": "stderr",
     "output_type": "stream",
     "text": [
      " 48%|████▊     | 13/27 [2:07:03<1:46:56, 458.32s/it]"
     ]
    },
    {
     "name": "stdout",
     "output_type": "stream",
     "text": [
      "Extracted 22047.tar.gz to /lustre/hpc/project/icecube/HE_Nu_Aske_Oct2024/sqlite_pulses/Snowstorm\n",
      "Extracting /lustre/hpc/project/icecube/HE_Nu_Aske_Oct2024/tar.gz/Snowstorm_l2/22084.tar.gz...\n"
     ]
    },
    {
     "name": "stderr",
     "output_type": "stream",
     "text": [
      " 52%|█████▏    | 14/27 [2:09:08<1:17:28, 357.61s/it]"
     ]
    },
    {
     "name": "stdout",
     "output_type": "stream",
     "text": [
      "Extracted 22084.tar.gz to /lustre/hpc/project/icecube/HE_Nu_Aske_Oct2024/sqlite_pulses/Snowstorm\n",
      "Extracting /lustre/hpc/project/icecube/HE_Nu_Aske_Oct2024/tar.gz/Snowstorm_l2/22044.tar.gz...\n"
     ]
    },
    {
     "name": "stderr",
     "output_type": "stream",
     "text": [
      " 56%|█████▌    | 15/27 [2:17:41<1:20:51, 404.30s/it]"
     ]
    },
    {
     "name": "stdout",
     "output_type": "stream",
     "text": [
      "Extracted 22044.tar.gz to /lustre/hpc/project/icecube/HE_Nu_Aske_Oct2024/sqlite_pulses/Snowstorm\n",
      "Extracting /lustre/hpc/project/icecube/HE_Nu_Aske_Oct2024/tar.gz/Snowstorm_l2/22012.tar.gz...\n"
     ]
    },
    {
     "name": "stderr",
     "output_type": "stream",
     "text": [
      " 59%|█████▉    | 16/27 [3:14:27<3:59:46, 1307.88s/it]"
     ]
    },
    {
     "name": "stdout",
     "output_type": "stream",
     "text": [
      "Extracted 22012.tar.gz to /lustre/hpc/project/icecube/HE_Nu_Aske_Oct2024/sqlite_pulses/Snowstorm\n",
      "Extracting /lustre/hpc/project/icecube/HE_Nu_Aske_Oct2024/tar.gz/Snowstorm_l2/22049.tar.gz...\n"
     ]
    },
    {
     "name": "stderr",
     "output_type": "stream",
     "text": [
      " 63%|██████▎   | 17/27 [3:15:26<2:35:23, 932.34s/it] "
     ]
    },
    {
     "name": "stdout",
     "output_type": "stream",
     "text": [
      "Extracted 22049.tar.gz to /lustre/hpc/project/icecube/HE_Nu_Aske_Oct2024/sqlite_pulses/Snowstorm\n",
      "Extracting /lustre/hpc/project/icecube/HE_Nu_Aske_Oct2024/tar.gz/Snowstorm_l2/22046.tar.gz...\n"
     ]
    },
    {
     "name": "stderr",
     "output_type": "stream",
     "text": [
      " 67%|██████▋   | 18/27 [3:17:10<1:42:30, 683.38s/it]"
     ]
    },
    {
     "name": "stdout",
     "output_type": "stream",
     "text": [
      "Extracted 22046.tar.gz to /lustre/hpc/project/icecube/HE_Nu_Aske_Oct2024/sqlite_pulses/Snowstorm\n",
      "Extracting /lustre/hpc/project/icecube/HE_Nu_Aske_Oct2024/tar.gz/Snowstorm_l2/22086.tar.gz...\n"
     ]
    },
    {
     "name": "stderr",
     "output_type": "stream",
     "text": [
      " 70%|███████   | 19/27 [3:32:06<1:39:38, 747.28s/it]"
     ]
    },
    {
     "name": "stdout",
     "output_type": "stream",
     "text": [
      "Extracted 22086.tar.gz to /lustre/hpc/project/icecube/HE_Nu_Aske_Oct2024/sqlite_pulses/Snowstorm\n",
      "Extracting /lustre/hpc/project/icecube/HE_Nu_Aske_Oct2024/tar.gz/Snowstorm_l2/22010.tar.gz...\n"
     ]
    },
    {
     "name": "stderr",
     "output_type": "stream",
     "text": [
      " 74%|███████▍  | 20/27 [4:05:08<2:10:25, 1117.97s/it]"
     ]
    },
    {
     "name": "stdout",
     "output_type": "stream",
     "text": [
      "Extracted 22010.tar.gz to /lustre/hpc/project/icecube/HE_Nu_Aske_Oct2024/sqlite_pulses/Snowstorm\n",
      "Extracting /lustre/hpc/project/icecube/HE_Nu_Aske_Oct2024/tar.gz/Snowstorm_l2/22050.tar.gz...\n"
     ]
    },
    {
     "name": "stderr",
     "output_type": "stream",
     "text": [
      " 78%|███████▊  | 21/27 [4:11:38<1:29:57, 899.50s/it] "
     ]
    },
    {
     "name": "stdout",
     "output_type": "stream",
     "text": [
      "Extracted 22050.tar.gz to /lustre/hpc/project/icecube/HE_Nu_Aske_Oct2024/sqlite_pulses/Snowstorm\n",
      "Extracting /lustre/hpc/project/icecube/HE_Nu_Aske_Oct2024/tar.gz/Snowstorm_l2/22016.tar.gz...\n"
     ]
    },
    {
     "name": "stderr",
     "output_type": "stream",
     "text": [
      " 81%|████████▏ | 22/27 [4:15:09<57:44, 692.90s/it]  "
     ]
    },
    {
     "name": "stdout",
     "output_type": "stream",
     "text": [
      "Extracted 22016.tar.gz to /lustre/hpc/project/icecube/HE_Nu_Aske_Oct2024/sqlite_pulses/Snowstorm\n",
      "Extracting /lustre/hpc/project/icecube/HE_Nu_Aske_Oct2024/tar.gz/Snowstorm_l2/22080.tar.gz...\n"
     ]
    },
    {
     "name": "stderr",
     "output_type": "stream",
     "text": [
      " 85%|████████▌ | 23/27 [4:35:15<56:26, 846.74s/it]"
     ]
    },
    {
     "name": "stdout",
     "output_type": "stream",
     "text": [
      "Extracted 22080.tar.gz to /lustre/hpc/project/icecube/HE_Nu_Aske_Oct2024/sqlite_pulses/Snowstorm\n",
      "Extracting /lustre/hpc/project/icecube/HE_Nu_Aske_Oct2024/tar.gz/Snowstorm_l2/22078.tar.gz...\n"
     ]
    },
    {
     "name": "stderr",
     "output_type": "stream",
     "text": [
      " 89%|████████▉ | 24/27 [4:55:10<47:34, 951.34s/it]"
     ]
    },
    {
     "name": "stdout",
     "output_type": "stream",
     "text": [
      "Extracted 22078.tar.gz to /lustre/hpc/project/icecube/HE_Nu_Aske_Oct2024/sqlite_pulses/Snowstorm\n",
      "Extracting /lustre/hpc/project/icecube/HE_Nu_Aske_Oct2024/tar.gz/Snowstorm_l2/22014.tar.gz...\n"
     ]
    },
    {
     "name": "stderr",
     "output_type": "stream",
     "text": [
      " 93%|█████████▎| 25/27 [5:06:38<29:04, 872.40s/it]"
     ]
    },
    {
     "name": "stdout",
     "output_type": "stream",
     "text": [
      "Extracted 22014.tar.gz to /lustre/hpc/project/icecube/HE_Nu_Aske_Oct2024/sqlite_pulses/Snowstorm\n",
      "Extracting /lustre/hpc/project/icecube/HE_Nu_Aske_Oct2024/tar.gz/Snowstorm_l2/22082.tar.gz...\n"
     ]
    },
    {
     "name": "stderr",
     "output_type": "stream",
     "text": [
      " 96%|█████████▋| 26/27 [5:10:29<11:20, 680.03s/it]"
     ]
    },
    {
     "name": "stdout",
     "output_type": "stream",
     "text": [
      "Extracted 22082.tar.gz to /lustre/hpc/project/icecube/HE_Nu_Aske_Oct2024/sqlite_pulses/Snowstorm\n",
      "Extracting /lustre/hpc/project/icecube/HE_Nu_Aske_Oct2024/tar.gz/Snowstorm_l2/22042.tar.gz...\n"
     ]
    },
    {
     "name": "stderr",
     "output_type": "stream",
     "text": [
      "100%|██████████| 27/27 [5:15:31<00:00, 701.18s/it]"
     ]
    },
    {
     "name": "stdout",
     "output_type": "stream",
     "text": [
      "Extracted 22042.tar.gz to /lustre/hpc/project/icecube/HE_Nu_Aske_Oct2024/sqlite_pulses/Snowstorm\n"
     ]
    },
    {
     "name": "stderr",
     "output_type": "stream",
     "text": [
      "\n"
     ]
    }
   ],
   "source": [
    "snowstorm_source_dir = \"/lustre/hpc/project/icecube/HE_Nu_Aske_Oct2024/tar.gz/Snowstorm_l2\"\n",
    "snowstorm_dest_dir = \"/lustre/hpc/project/icecube/HE_Nu_Aske_Oct2024/sqlite_pulses/Snowstorm\"\n",
    "extract_all_tar_gz(snowstorm_source_dir, snowstorm_dest_dir)\n",
    "# 315 min = 5 hours 15 min"
   ]
  },
  {
   "cell_type": "code",
   "execution_count": null,
   "metadata": {},
   "outputs": [],
   "source": [
    "# 22010: 1e2 - 1e4 NuMu\n",
    "# 22011: 1e4 - 1e6 NuMu\n",
    "# 22012: 1e6 - 1e8 NuMu\n",
    "# 22013: 1e2 - 1e4 NuE\n",
    "# 22014: 1e4 - 1e6 NuE\n",
    "# 22015: 1e6 - 1e8 NuE\n",
    "# 22016: 1e2 - 1e4 NuTau\n",
    "# 22017: 1e4 - 1e6 NuTau\n",
    "# 22018: 1e6 - 1e8 NuTau"
   ]
  },
  {
   "cell_type": "code",
   "execution_count": 17,
   "metadata": {},
   "outputs": [],
   "source": [
    "db_NuMu_6_8 = \"/lustre/hpc/project/icecube/HE_Nu_Aske_Oct2024/sqlite_pulses/Snowstorm/22012/merged_part_1.db\"\n",
    "db_Corsika_5_1 = \"/lustre/hpc/project/icecube/HE_Nu_Aske_Oct2024/sqlite_pulses/Corsika/0005000-0005999/merged_part_1.db\""
   ]
  },
  {
   "cell_type": "code",
   "execution_count": 18,
   "metadata": {},
   "outputs": [
    {
     "name": "stdout",
     "output_type": "stream",
     "text": [
      "['truth', 'SRTInIcePulses', 'event_no_SRTInIcePulses', 'OnlineL2_SplineMPE', 'LineFit', 'GNHighestEInIceParticle', 'GNHighestEDaughter', 'MCWeightDict', 'SnowStormParameters', 'FilterMask']\n",
      "['truth', 'SRTInIcePulses', 'event_no_SRTInIcePulses', 'OnlineL2_SplineMPE', 'LineFit', 'GNHighestEInIceParticle', 'GNHighestEDaughter', 'MCWeightDict', 'FilterMask']\n"
     ]
    }
   ],
   "source": [
    "list_tables(db_NuMu_6_8)\n",
    "list_tables(db_Corsika_5_1)"
   ]
  },
  {
   "cell_type": "code",
   "execution_count": 12,
   "metadata": {},
   "outputs": [],
   "source": [
    "import sqlite3 as sql"
   ]
  },
  {
   "cell_type": "code",
   "execution_count": 18,
   "metadata": {},
   "outputs": [],
   "source": [
    "def convertDBtoDF(file:str, table:str, N_events:int = None) -> pd.DataFrame:\n",
    "    con = sql.connect(file)\n",
    "    # if N_events is None or N_events > N_events_total:\n",
    "    #     N_events = N_events_total\n",
    "    # Query to fetch the first `N_events` unique event_no values\n",
    "    event_no_query = f'SELECT DISTINCT event_no FROM {table} LIMIT {N_events}'\n",
    "    event_nos = pd.read_sql_query(event_no_query, con)['event_no'].tolist()\n",
    "    \n",
    "    # Use the selected event_no values to filter the main data\n",
    "    event_filter = ','.join(map(str, event_nos))  # Convert to comma-separated string for SQL IN clause\n",
    "    query = f'SELECT * FROM {table} WHERE event_no IN ({event_filter})'\n",
    "    \n",
    "    # Read data and close the connection\n",
    "    df = pd.read_sql_query(query, con)\n",
    "    con.close()\n",
    "    \n",
    "    return df"
   ]
  },
  {
   "cell_type": "code",
   "execution_count": 19,
   "metadata": {},
   "outputs": [],
   "source": [
    "def get_table_event_count(conn: sql.Connection, table: str) -> int:\n",
    "    cursor = conn.cursor()\n",
    "    cursor.execute(f\"SELECT COUNT(DISTINCT event_no) FROM {table}\")\n",
    "    event_count = cursor.fetchone()[0]\n",
    "    return event_count"
   ]
  },
  {
   "cell_type": "code",
   "execution_count": 12,
   "metadata": {},
   "outputs": [],
   "source": [
    "def print_table_event_count(file: str, table: str):\n",
    "    conn = sql.connect(file)\n",
    "    event_count = get_table_event_count(conn, table)\n",
    "    print(f\"Table {table} has {event_count} unique events\")\n",
    "    conn.close()"
   ]
  },
  {
   "cell_type": "code",
   "execution_count": 21,
   "metadata": {},
   "outputs": [
    {
     "ename": "NameError",
     "evalue": "name 'db_NuMu_6_8' is not defined",
     "output_type": "error",
     "traceback": [
      "\u001b[0;31m---------------------------------------------------------------------------\u001b[0m",
      "\u001b[0;31mNameError\u001b[0m                                 Traceback (most recent call last)",
      "Cell \u001b[0;32mIn[21], line 1\u001b[0m\n\u001b[0;32m----> 1\u001b[0m print_table_event_count(\u001b[43mdb_NuMu_6_8\u001b[49m, \u001b[38;5;124m\"\u001b[39m\u001b[38;5;124mSRTInIcePulses\u001b[39m\u001b[38;5;124m\"\u001b[39m)\n\u001b[1;32m      2\u001b[0m \u001b[38;5;66;03m# 29386 events\u001b[39;00m\n\u001b[1;32m      3\u001b[0m \u001b[38;5;66;03m# 3 min\u001b[39;00m\n",
      "\u001b[0;31mNameError\u001b[0m: name 'db_NuMu_6_8' is not defined"
     ]
    }
   ],
   "source": [
    "print_table_event_count(db_NuMu_6_8, \"SRTInIcePulses\")\n",
    "# 29386 events\n",
    "# 3 min"
   ]
  },
  {
   "cell_type": "code",
   "execution_count": null,
   "metadata": {},
   "outputs": [
    {
     "name": "stdout",
     "output_type": "stream",
     "text": [
      "Table SRTInIcePulses has 234823 unique events\n"
     ]
    }
   ],
   "source": [
    "print_table_event_count(db_Corsika_5_1, \"SRTInIcePulses\")\n",
    "# 234283 events\n",
    "# 3 min 45 sec"
   ]
  },
  {
   "cell_type": "code",
   "execution_count": null,
   "metadata": {},
   "outputs": [],
   "source": []
  }
 ],
 "metadata": {
  "kernelspec": {
   "display_name": "Python 3",
   "language": "python",
   "name": "python3"
  },
  "language_info": {
   "codemirror_mode": {
    "name": "ipython",
    "version": 3
   },
   "file_extension": ".py",
   "mimetype": "text/x-python",
   "name": "python",
   "nbconvert_exporter": "python",
   "pygments_lexer": "ipython3",
   "version": "3.9.18"
  }
 },
 "nbformat": 4,
 "nbformat_minor": 2
}
